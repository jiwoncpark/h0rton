{
 "cells": [
  {
   "cell_type": "code",
   "execution_count": null,
   "metadata": {},
   "outputs": [],
   "source": [
    "import numpy as np\n",
    "import pandas as pd\n",
    "import matplotlib.pyplot as plt\n",
    "from ast import literal_eval\n",
    "from scipy.stats import norm\n",
    "%matplotlib inline"
   ]
  },
  {
   "cell_type": "code",
   "execution_count": null,
   "metadata": {},
   "outputs": [],
   "source": [
    "train = pd.read_csv('/home/jwp/stage/sl/h0rton/v8_train_prior=DiagonalCosmoBNNPrior_seed=1111/metadata.csv', index_col=None)\n",
    "val = pd.read_csv('/home/jwp/stage/sl/h0rton/v8_val_prior=DiagonalCosmoBNNPrior_seed=2222/metadata.csv', index_col=None)\n",
    "test = pd.read_csv('/home/jwp/stage/sl/h0rton/v8_test_prior=DiagonalCosmoBNNPrior_seed=3333/metadata.csv', index_col=None)"
   ]
  },
  {
   "cell_type": "code",
   "execution_count": null,
   "metadata": {},
   "outputs": [],
   "source": [
    "col_names = ['agn_light_magnitude', 'external_shear_dec_0',\n",
    "       'external_shear_gamma_ext', 'external_shear_psi_ext',\n",
    "       'external_shear_ra_0', 'kappa_ext',\n",
    "       'lens_light_R_sersic', 'lens_light_center_x',\n",
    "       'lens_light_center_y', 'lens_light_e1', 'lens_light_e2',\n",
    "       'lens_light_magnitude', 'lens_light_n_sersic',\n",
    "       'lens_mass_center_x', 'lens_mass_center_y', 'lens_mass_e1',\n",
    "       'lens_mass_e2', 'lens_mass_gamma', 'lens_mass_theta_E',\n",
    "       'magnification', 'n_img', 'psf_idx',\n",
    "       'src_light_R_sersic', 'src_light_center_x', 'src_light_center_y',\n",
    "       'src_light_e1', 'src_light_e2', 'src_light_magnitude',\n",
    "       'src_light_n_sersic', 'total_magnification', 'true_td', 'true_vd',\n",
    "       'x_image', 'y_image', 'z_lens', 'z_src']"
   ]
  },
  {
   "cell_type": "code",
   "execution_count": null,
   "metadata": {},
   "outputs": [],
   "source": [
    "print(train[col_names].shape)\n",
    "print(train[col_names].drop_duplicates().shape)"
   ]
  },
  {
   "cell_type": "code",
   "execution_count": null,
   "metadata": {},
   "outputs": [],
   "source": [
    "print(val[col_names].shape)\n",
    "print(val[col_names].drop_duplicates().shape)"
   ]
  },
  {
   "cell_type": "code",
   "execution_count": null,
   "metadata": {},
   "outputs": [],
   "source": [
    "print(test[col_names].shape)\n",
    "print(test[col_names].drop_duplicates().shape)"
   ]
  },
  {
   "cell_type": "code",
   "execution_count": null,
   "metadata": {},
   "outputs": [],
   "source": [
    "res = train[col_names].merge(test[col_names])\n",
    "res.shape"
   ]
  },
  {
   "cell_type": "code",
   "execution_count": null,
   "metadata": {},
   "outputs": [],
   "source": [
    "res = train[col_names].merge(val[col_names])\n",
    "res.shape"
   ]
  },
  {
   "cell_type": "code",
   "execution_count": null,
   "metadata": {},
   "outputs": [],
   "source": [
    "offset = []\n",
    "for i in range(200):\n",
    "    measured_td = np.array(literal_eval(realized.iloc[i]['measured_td']))\n",
    "    true_td = np.array(literal_eval(v6.iloc[i]['true_td']))\n",
    "    y_image = np.array(literal_eval(v6.iloc[i]['y_image']))\n",
    "    true_td = true_td[np.argsort(y_image)]\n",
    "    offset += list((measured_td - true_td))"
   ]
  },
  {
   "cell_type": "code",
   "execution_count": null,
   "metadata": {},
   "outputs": [],
   "source": [
    "plt.close('all')\n",
    "plt.hist(offset, bins=40, density=True, label='Measured time delay offset from truth')\n",
    "x_int = np.linspace(-2, 2, 100)\n",
    "plt.plot(x_int, norm.pdf(x_int, 0, 0.25), label='N(0, 0.25)')\n",
    "plt.legend()\n",
    "plt.show()"
   ]
  },
  {
   "cell_type": "code",
   "execution_count": null,
   "metadata": {},
   "outputs": [],
   "source": [
    "plt.hist(v6['z_lens'], bins=20)\n",
    "plt.show()"
   ]
  },
  {
   "cell_type": "code",
   "execution_count": null,
   "metadata": {},
   "outputs": [],
   "source": [
    "plt.hist(v6['z_src'], bins=20)\n",
    "plt.show()"
   ]
  },
  {
   "cell_type": "code",
   "execution_count": null,
   "metadata": {},
   "outputs": [],
   "source": [
    "plt.hist(v6['z_src'] - v6['z_lens'], bins=20)\n",
    "plt.show()"
   ]
  },
  {
   "cell_type": "code",
   "execution_count": null,
   "metadata": {},
   "outputs": [],
   "source": [
    "np.unique(v5['n_img'].values, return_counts=True)"
   ]
  },
  {
   "cell_type": "code",
   "execution_count": null,
   "metadata": {},
   "outputs": [],
   "source": [
    "np.unique(v6['n_img'].values, return_counts=True)"
   ]
  },
  {
   "cell_type": "code",
   "execution_count": null,
   "metadata": {},
   "outputs": [],
   "source": [
    "v5['true_td']"
   ]
  },
  {
   "cell_type": "code",
   "execution_count": null,
   "metadata": {},
   "outputs": [],
   "source": [
    "v6['true_td']"
   ]
  },
  {
   "cell_type": "code",
   "execution_count": null,
   "metadata": {},
   "outputs": [],
   "source": [
    "diff_days = []\n",
    "for i in range(200):\n",
    "    if v5.iloc[i]['n_img'] == v6.iloc[i]['n_img']:\n",
    "        v5_i = np.sort(np.array(literal_eval(v5.iloc[i]['true_td'])))\n",
    "        v5_i = v5_i[1:] - v5_i[0]\n",
    "        v6_i = np.sort(np.array(literal_eval(v6.iloc[i]['true_td'])))\n",
    "        v6_i = v6_i[1:] - v6_i[0]\n",
    "        diff_i = v5_i - v6_i\n",
    "        diff_days += list(diff_i)"
   ]
  },
  {
   "cell_type": "code",
   "execution_count": null,
   "metadata": {},
   "outputs": [],
   "source": [
    "plt.hist(diff_days)"
   ]
  },
  {
   "cell_type": "code",
   "execution_count": null,
   "metadata": {},
   "outputs": [],
   "source": []
  }
 ],
 "metadata": {
  "kernelspec": {
   "display_name": "Python (baobab)",
   "language": "python",
   "name": "baobab"
  },
  "language_info": {
   "codemirror_mode": {
    "name": "ipython",
    "version": 3
   },
   "file_extension": ".py",
   "mimetype": "text/x-python",
   "name": "python",
   "nbconvert_exporter": "python",
   "pygments_lexer": "ipython3",
   "version": "3.6.10"
  }
 },
 "nbformat": 4,
 "nbformat_minor": 2
}
