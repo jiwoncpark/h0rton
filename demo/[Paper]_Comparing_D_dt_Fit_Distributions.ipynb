{
 "cells": [
  {
   "cell_type": "code",
   "execution_count": null,
   "metadata": {},
   "outputs": [],
   "source": [
    "import os, sys\n",
    "import numpy as np\n",
    "from scipy import stats\n",
    "import json\n",
    "from addict import Dict\n",
    "import matplotlib.pyplot as plt\n",
    "from h0rton.h0_inference import plotting_utils, h0_utils\n",
    "from h0rton.configs import TrainValConfig, TestConfig\n",
    "from scipy.stats import norm, gaussian_kde\n",
    "import glob\n",
    "import matplotlib.image as mpimg\n",
    "%matplotlib inline\n",
    "%load_ext autoreload\n",
    "%autoreload 2\n",
    "\n",
    "# Plotting params\n",
    "plt.rcParams.update(plt.rcParamsDefault)\n",
    "plt.rc('font', family='STIXGeneral', size=20)\n",
    "plt.rc('xtick', labelsize='medium')\n",
    "plt.rc('ytick', labelsize='medium')\n",
    "plt.rc('text', usetex=True)\n",
    "plt.rc('axes', linewidth=2, titlesize='large', labelsize='large')"
   ]
  },
  {
   "cell_type": "markdown",
   "metadata": {},
   "source": [
    "# Illustrating the importance of D_dt fit distribution\n",
    "\n",
    "__Author:__ Ji Won Park (@jiwoncpark)\n",
    "\n",
    "__Created:__ 8/20/2020\n",
    "\n",
    "__Last run:__ 11/29/2020\n",
    "\n",
    "__Goals:__\n",
    "We illustrate the importance of the $D_{\\Delta t}$ fit distribution by comparing the fit quality between normal, lognormal, and KDE fits.\n",
    "\n",
    "__Before_running:__\n",
    "1. Train the BNN, e.g.\n",
    "```bash\n",
    "python h0rton/train.py experiments/v2/train_val_cfg.json\n",
    "```\n",
    "\n",
    "2. Get inference results for the trained model and the precision ceiling, e.g.\n",
    "```bash\n",
    "python h0rton/infer_h0_mcmc_default.py experiments/v2/mcmc_default.json\n",
    "python h0rton/infer_h0_simple_mc_truth.py experiments/v0/simple_mc_default.json\n",
    "```\n",
    "\n",
    "3. Summarize the inference results, e.g.\n",
    "```bash\n",
    "python h0rton/summarize.py 2 mcmc_default\n",
    "python h0rton/summarize.py 0 mcmc_default\n",
    "```"
   ]
  },
  {
   "cell_type": "code",
   "execution_count": null,
   "metadata": {},
   "outputs": [],
   "source": [
    "# Read in the inference config\n",
    "default_version_id = 2 # corresponds to 2 HST orbits\n",
    "default_version_dir = '/home/jwp/stage/sl/h0rton/experiments/v{:d}'.format(default_version_id)\n",
    "test_cfg_path = os.path.join(default_version_dir, 'mcmc_default.json')\n",
    "test_cfg = TestConfig.from_file(test_cfg_path)"
   ]
  },
  {
   "cell_type": "code",
   "execution_count": null,
   "metadata": {},
   "outputs": [],
   "source": [
    "plt.close('all')\n",
    "# Plot a D_dt histogram for the pipeline diagram\n",
    "fig, axes = plt.subplots(1, 3, figsize=(15, 5))\n",
    "for i, lens_i in enumerate([ 20, 169, 31,]):\n",
    "    saved_dict = np.load('/home/jwp/stage/sl/h0rton/experiments/v2/mcmc_default/D_dt_dict_{0:04}.npy'.format(lens_i), allow_pickle=True).item()\n",
    "    uncorrected_D_dt_samples = saved_dict['D_dt_samples']\n",
    "    oversampling = 20\n",
    "    uncorrected_D_dt_samples = h0_utils.remove_outliers_from_lognormal(uncorrected_D_dt_samples, 3).reshape(-1, 1) # [n_samples, 1] \n",
    "    k_ext_rv = getattr(stats, test_cfg.kappa_ext_prior.dist)(**test_cfg.kappa_ext_prior.kwargs)\n",
    "    k_ext = k_ext_rv.rvs(size=[len(uncorrected_D_dt_samples), oversampling]) # [n_samples, oversampling]\n",
    "    if test_cfg.kappa_ext_prior.transformed:\n",
    "        #print(\"Transformed\")\n",
    "        D_dt_samples = (uncorrected_D_dt_samples*k_ext).flatten()\n",
    "        #print(D_dt_samples.shape)\n",
    "    else:\n",
    "        D_dt_samples = (uncorrected_D_dt_samples/(1.0 - k_ext)).flatten() # [n_samples,]\n",
    "        \n",
    "    D_dt_grid = np.linspace(0, 15000, 100)\n",
    "    # Plot KDE\n",
    "    kde = gaussian_kde(D_dt_samples, bw_method='scott')\n",
    "    axes[i].plot(D_dt_grid, kde(D_dt_grid), color='k', linestyle='solid', label='KDE', linewidth=2)\n",
    "    # Plot lognormal fit\n",
    "    D_dt_stats = h0_utils.get_lognormal_stats(D_dt_samples)\n",
    "    axes[i].plot(D_dt_grid, plotting_utils.lognormal(D_dt_grid, D_dt_stats['mu'], D_dt_stats['sigma']), color='k', linestyle='dashed', label='Lognormal fit')\n",
    "    # Plot normal fit\n",
    "    D_dt_stats_normal = h0_utils.get_normal_stats(D_dt_samples)\n",
    "    axes[i].plot(D_dt_grid, norm.pdf(D_dt_grid, loc=D_dt_stats_normal['mean'], scale=D_dt_stats_normal['std']), color='k', ls='dotted', label='Normal fit', linewidth=2)\n",
    "    # Plot samples\n",
    "    axes[i].hist(D_dt_samples, range=[0, 15000], bins=100, color='#d6616b', density=True, label='$D_{\\Delta t}$ posterior samples', alpha=0.75)\n",
    "    #plt.axvline(saved_dict['true_D_dt'], c='tab:gray', ls='--', label='True $D_{\\Delta t}$')\n",
    "    axes[i].set_yticks([])\n",
    "    axes[i].set_xlabel('$D_{\\Delta t}$ (Mpc)', fontsize=25)\n",
    "    #axes[i].set_ylabel('Density', fontsize=25)\n",
    "    #plt.xticks([0, 15000], [0, 15000], fontsize=20)\n",
    "global_legend = axes[0].legend(bbox_to_anchor=(0.03, 1.03, 2 + 1.1, 0.102), loc='upper center', ncol=4, mode=\"expand\", borderaxespad=-0.5, fontsize=18, frameon=False, columnspacing=0.08)\n",
    "\n",
    "axes[0].add_artist(global_legend)\n",
    "axes[0].set_ylabel('Density', fontsize=28)\n",
    "plt.subplots_adjust(wspace=0.08)\n",
    "\n",
    "plt.show()\n",
    "#fig.savefig('../plots/kde_vs_lognormal_vs_normal.png', bbox_inches='tight', pad_inches=0)"
   ]
  },
  {
   "cell_type": "code",
   "execution_count": null,
   "metadata": {},
   "outputs": [],
   "source": []
  }
 ],
 "metadata": {
  "kernelspec": {
   "display_name": "Python (baobab)",
   "language": "python",
   "name": "baobab"
  },
  "language_info": {
   "codemirror_mode": {
    "name": "ipython",
    "version": 3
   },
   "file_extension": ".py",
   "mimetype": "text/x-python",
   "name": "python",
   "nbconvert_exporter": "python",
   "pygments_lexer": "ipython3",
   "version": "3.6.10"
  }
 },
 "nbformat": 4,
 "nbformat_minor": 2
}
