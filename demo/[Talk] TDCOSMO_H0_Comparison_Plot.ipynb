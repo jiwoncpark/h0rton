{
 "cells": [
  {
   "cell_type": "markdown",
   "metadata": {},
   "source": [
    "# TDCOSMO Measurement Comparison\n",
    "\n",
    "__Author:__ Martin Millon (@martin-millon)\n",
    "\n",
    "__Modified by:__ Ji Won Park (@jiwoncpark)\n",
    "\n",
    "__Created:__ 11/11/2020\n",
    "\n",
    "__Last run:__ 11/11/2020\n",
    "\n",
    "__Goals:__ This notebook generates a plot to compare the different measurements of the TDCOSMO collaboration. The notebook is adopted from the [H0 tension notebook by Bonvin and Millon](https://github.com/shsuyu/H0LiCOW-public/blob/master/H0_tension_plots/H0_tension.ipynb)."
   ]
  },
  {
   "cell_type": "code",
   "execution_count": null,
   "metadata": {},
   "outputs": [],
   "source": [
    "import matplotlib.pyplot as plt\n",
    "measurement_list = []"
   ]
  },
  {
   "cell_type": "code",
   "execution_count": null,
   "metadata": {},
   "outputs": [],
   "source": [
    "label_planck = 'Planck (Planck Collaboration et al 2018)'\n",
    "planck_median, planck_low, planck_up = 67.4, 0.5, 0.5\n",
    "measurement_list.append([label_planck, planck_median, planck_low, planck_up])\n",
    "\n",
    "label_DES_Y1 = 'DES + BAO + BBN (Abbott et al 2018)'\n",
    "DES_Y1_median, DES_Y1_low, DES_Y1_up = 67.4, 1.1, 1.2\n",
    "measurement_list.append([label_DES_Y1, DES_Y1_median, DES_Y1_low, DES_Y1_up])"
   ]
  },
  {
   "cell_type": "markdown",
   "metadata": {},
   "source": [
    "## PL or  NFW + stars/constant M/L\n",
    "Previous measurements of the TDCOSMO/H0LiCOW collaboration by\n",
    "[Wong et al. 2020](https://ui.adsabs.harvard.edu/abs/2020MNRAS.tmp.1661W/abstract)\n",
    "and\n",
    "[Millon et al. 2020](https://ui.adsabs.harvard.edu/abs/2019arXiv191208027M/abstract)."
   ]
  },
  {
   "cell_type": "code",
   "execution_count": null,
   "metadata": {},
   "outputs": [],
   "source": [
    "if False:\n",
    "    label_h0licow = 'H0LiCOW (average of PL and NFW + stars/constant M/L)'\n",
    "    h0licow_median, h0licow_low, h0licow_up = 73.3, 1.8, 1.7\n",
    "    measurement_list.append([label_h0licow, h0licow_median, h0licow_low, h0licow_up])\n",
    "\n",
    "\n",
    "label_nfw_stars = 'TDCOSMO (NFW + stars/constant M/L)'\n",
    "nfw_stars_median, nfw_stars_low, nfw_stars_up = 74.0, 1.8, 1.7\n",
    "measurement_list.append([label_nfw_stars, nfw_stars_median, nfw_stars_low, nfw_stars_up])\n",
    "\n",
    "\n",
    "label_pl = 'TDCOSMO (power-law)'\n",
    "pl_median, pl_low, pl_up = 74.2, 1.6, 1.6\n",
    "measurement_list.append([label_pl, pl_median, pl_low, pl_up])"
   ]
  },
  {
   "cell_type": "markdown",
   "metadata": {},
   "source": [
    "## Hierarchical analysis with MST (this work)"
   ]
  },
  {
   "cell_type": "code",
   "execution_count": null,
   "metadata": {},
   "outputs": [],
   "source": [
    "label_mst_tdcosmo = 'TDCOSMO, relaxed assumptions'\n",
    "mst_tdcosmo_median, mst_tdcosmo_low, mst_tdcosmo_up = 74.5, 6.1, 5.6\n",
    "measurement_list.append([label_mst_tdcosmo, mst_tdcosmo_median, mst_tdcosmo_low, mst_tdcosmo_up])\n",
    "\n",
    "if False:\n",
    "    label_mst_tdcosmo_ifu = r'TDCOSMO+SLACS$_{\\rm IFU}$ (anisotropy constraints from 9 SLACS lenses)'\n",
    "    mst_tdcosmo_ifu_median, mst_tdcosmo_ifu_low, mst_tdcosmo_ifu_up = 73.3, 5.8, 5.8\n",
    "    measurement_list.append([label_mst_tdcosmo_ifu, mst_tdcosmo_ifu_median, mst_tdcosmo_ifu_low, mst_tdcosmo_ifu_up])\n",
    "\n",
    "    label_mst_tdcosmo_slacs = r'TDCOSMO+SLACS$_{\\rm SDSS}$ (profile constraints from 33 SLACS lenses)' # ; self-similarity between samples)'\n",
    "    mst_tdcosmo_slacs_median, mst_tdcosmo_slacs_low, mst_tdcosmo_slacs_up = 67.4, 4.7, 4.3\n",
    "    measurement_list.append([label_mst_tdcosmo_slacs, mst_tdcosmo_slacs_median, mst_tdcosmo_slacs_low, mst_tdcosmo_slacs_up])\n",
    "\n",
    "    label_mst_tdcosmo_slacs_ifu = r'TDCOSMO+SLACS$_{\\rm SDSS+IFU}$ (anisotropy and profile constraints from SLACS)' #; self-similarity between samples)'\n",
    "    mst_tdcosmo_slacs_ifu_median, mst_tdcosmo_slacs_ifu_low, mst_tdcosmo_slacs_ifu_up = 67.4, 3.2, 4.1\n",
    "    measurement_list.append([label_mst_tdcosmo_slacs_ifu, mst_tdcosmo_slacs_ifu_median, mst_tdcosmo_slacs_ifu_low, mst_tdcosmo_slacs_ifu_up])\n",
    "\n"
   ]
  },
  {
   "cell_type": "code",
   "execution_count": null,
   "metadata": {},
   "outputs": [],
   "source": [
    "plt.close('all')\n",
    "# Special fine-tuned design, adapted from Bonvin & Millon notebook\n",
    "\n",
    "ys = [19, 17, 14, 12, 9, 4, 1.5, -1, -3.5]\n",
    "\n",
    "plt.figure(figsize=(8.0, 8), dpi=200)\n",
    "plt.subplots_adjust(left=0.01, right=0.99, bottom=0.20, top=0.92)\n",
    "\n",
    "ax = plt.subplot(1, 1, 1)\n",
    "plt.xlabel(r\"$H_0\\rm{\\ [km\\,s^{-1}\\,Mpc^{-1}]}$\", fontsize=24)\n",
    "plt.yticks(fontsize=14)\n",
    "plt.xticks(fontsize=20)\n",
    "\n",
    "\n",
    "colors = ['k', 'k', 'goldenrod', 'goldenrod','royalblue', 'mediumvioletred', 'coral', 'rebeccapurple', 'crimson','crimson','purple','purple']\n",
    "\n",
    "\n",
    "plt.axis([59.0, 82.9, 7.5, 20.5]) # 75.6\n",
    "plt.gca().yaxis.set_major_locator(plt.NullLocator())\n",
    "#plt.title(r'$H_0$ measurements in $\\rm{flat\\,\\, \\Lambda CDM}$ - performed blindly', fontsize=17)\n",
    "\n",
    "\n",
    "for x, y, c in zip(measurement_list, ys, colors):\n",
    "    pcs = [x[1]-x[2], x[1], x[1]+x[3]]\n",
    "    label = x[0]\n",
    "    plt.scatter(pcs[1], y, s=80, edgecolor=c, c=c, label=label)\n",
    "    plt.plot([pcs[0], pcs[2]], [y, y], linewidth=2.5, color=c)\n",
    "\n",
    "    delaytext = r\"$%.1f^{+%.1f}_{-%.1f}$\" % (pcs[1], pcs[2]-pcs[1], pcs[1]-pcs[0])\n",
    "    plt.annotate(delaytext, xy=(pcs[1], y + 0.3), color = c, horizontalalignment=\"center\", fontsize=17)\n",
    "    plt.annotate(label, xy=(pcs[1], y-0.7), color = \"dimgrey\", horizontalalignment=\"center\", fontsize=10) \n",
    "\n",
    "plt.axhline(15.5, color=\"k\", ls='--', alpha=0.5)  \n",
    "#plt.axhline(16.5, color=\"darkgrey\", ls='--', alpha=0.5) \n",
    "plt.axhline(10.5, color=\"darkgrey\", ls='--', alpha=0.5)\n",
    "#plt.axhline(7.5, color=\"darkgrey\", ls='--', alpha=0.5)  \n",
    " \n",
    "#\n",
    "\n",
    "bbox_props = dict(boxstyle=\"square\", lw=1,  fc=\"white\")\n",
    "plt.annotate(\"Early universe\", xy=(59.5, 19.5), color = \"black\", \n",
    "             horizontalalignment=\"left\", verticalalignment=\"center\", fontsize=13, bbox=bbox_props)\n",
    "\n",
    "#plt.annotate(\"Wong et al. 2020\", xy=(59.5, 14.5), color = \"black\", \n",
    "#             horizontalalignment=\"left\", verticalalignment=\"center\", fontsize=13, bbox=bbox_props)\n",
    "#plt.annotate(\"6 time-delay lenses\", xy=(59.5, 13.5), color = \"dimgrey\", \n",
    "#             horizontalalignment=\"left\", verticalalignment=\"center\", fontsize=8)\n",
    "\n",
    "plt.annotate(\"Millon et al. 2020\", xy=(59.5, 14.5), color = \"black\", \n",
    "             horizontalalignment=\"left\", verticalalignment=\"center\", fontsize=13, bbox=bbox_props)\n",
    "plt.annotate(\"7 time-delay lenses (6 H0LiCOW + 1 STRIDES)\", xy=(59.5, 13.5), color = \"dimgrey\", \n",
    "             horizontalalignment=\"left\", verticalalignment=\"center\", fontsize=8)\n",
    "plt.annotate(\"Birrer et al. 2020\", xy=(59.5, 9.5), color = \"black\", \n",
    "             horizontalalignment=\"left\", verticalalignment=\"center\", fontsize=13, bbox=bbox_props)\n",
    "#plt.annotate(\"7 time-delay lenses (+ 33 SLACS lenses in different combinations)\", xy=(59.5, 5.5), color = \"dimgrey\", \n",
    "#             horizontalalignment=\"left\", verticalalignment=\"center\", fontsize=8)\n",
    "#plt.annotate(\"kinematics-only constraints on mass profile\", xy=(75, 6.5), color = \"black\", \n",
    "#             horizontalalignment=\"center\", verticalalignment=\"center\", fontsize=13)\n",
    "\n",
    "    \n",
    "plt.tight_layout()\n",
    "plt.savefig('../plots/h0_comparison.pdf')\n",
    "plt.show()"
   ]
  }
 ],
 "metadata": {
  "kernelspec": {
   "display_name": "Python 3",
   "language": "python",
   "name": "python3"
  },
  "language_info": {
   "codemirror_mode": {
    "name": "ipython",
    "version": 3
   },
   "file_extension": ".py",
   "mimetype": "text/x-python",
   "name": "python",
   "nbconvert_exporter": "python",
   "pygments_lexer": "ipython3",
   "version": "3.5.2"
  }
 },
 "nbformat": 4,
 "nbformat_minor": 2
}
