{
 "cells": [
  {
   "cell_type": "code",
   "execution_count": null,
   "metadata": {},
   "outputs": [],
   "source": [
    "import os, sys\n",
    "import numpy as np\n",
    "import pandas as pd\n",
    "\n",
    "# Plotting\n",
    "import matplotlib\n",
    "import matplotlib.pyplot as plt\n",
    "import corner\n",
    "\n",
    "# Sampling from the BNN posterior\n",
    "import torch\n",
    "import torchvision.models\n",
    "from h0rton.configs import TrainValConfig, TestConfig\n",
    "import h0rton.losses\n",
    "from h0rton.h0_inference import *\n",
    "import h0rton.tdlmc_data\n",
    "import h0rton.tdlmc_utils\n",
    "import h0rton.train_utils as train_utils\n",
    "from h0rton.trainval_data import XYData, XYCosmoData\n",
    "from torch.utils.data import DataLoader\n",
    "\n",
    "%matplotlib inline\n",
    "%load_ext autoreload\n",
    "%autoreload 2"
   ]
  },
  {
   "cell_type": "markdown",
   "metadata": {},
   "source": [
    "## Visualizing the BNN posterior\n",
    "\n",
    "__Author:__ Ji Won Park (@jiwoncpark)\n",
    "\n",
    "__Created:__ 11/01/2019\n",
    "\n",
    "__Last run:__ 1/07/2019\n",
    "\n",
    "__Goals:__\n",
    "We visualize the BNN posterior overlaid against the BNN prior.\n",
    "\n",
    "__Before_running:__\n",
    "1. Train the BNN, e.g.\n",
    "```bash\n",
    "python -m h0rton.train h0rton/example_user_config.py\n",
    "```"
   ]
  },
  {
   "cell_type": "code",
   "execution_count": null,
   "metadata": {},
   "outputs": [],
   "source": [
    "cfg = TrainValConfig.from_file(os.path.join('..', 'h0rton', 'train_val_config_file.py'))"
   ]
  },
  {
   "cell_type": "code",
   "execution_count": null,
   "metadata": {},
   "outputs": [],
   "source": [
    "device = torch.device('cuda')\n",
    "if device.type == 'cuda':\n",
    "    torch.set_default_tensor_type('torch.cuda.FloatTensor')\n",
    "else:\n",
    "    torch.set_default_tensor_type('torch.FloatTensor')\n",
    "\n",
    "loss_fn = getattr(h0rton.losses, cfg.model.likelihood_class)(Y_dim=cfg.data.Y_dim, device=device)\n",
    "net = getattr(torchvision.models, cfg.model.architecture)(pretrained=False)\n",
    "n_filters = net.fc.in_features\n",
    "net.fc = torch.nn.Linear(in_features=n_filters, out_features=loss_fn.out_dim) # replace final layer\n",
    "net.to(device)\n",
    "# Load trained weights from saved state\n",
    "net, epoch = train_utils.load_state_dict_test(\"/home/jwp/stage/sl/h0rton/overnight_models/resnet34_epoch=864_01-15-2020_04:36.mdl\", net, cfg.optim.n_epochs, device)"
   ]
  },
  {
   "cell_type": "code",
   "execution_count": null,
   "metadata": {},
   "outputs": [],
   "source": [
    "val_data = XYData(cfg.data.val_dir, data_cfg=cfg.data)\n",
    "n_val = 400\n",
    "val_loader = DataLoader(val_data, batch_size=n_val, shuffle=False, drop_last=True)\n",
    "\n",
    "with torch.no_grad():\n",
    "    net.eval()\n",
    "    for _, (X_, Y_) in enumerate(val_loader):\n",
    "        X = X_.to(device)\n",
    "        Y = Y_.to(device)\n",
    "        pred = net(X)\n",
    "        break"
   ]
  },
  {
   "cell_type": "raw",
   "metadata": {},
   "source": [
    "test_cfg = TestConfig.from_file('/home/jwp/stage/sl/h0rton/h0rton/test_config_file.json')\n",
    "\n",
    "val_data = XYCosmoData(test_cfg.data.test_dir, data_cfg=cfg.data)\n",
    "n_val = 100\n",
    "val_loader = DataLoader(val_data, batch_size=n_val, shuffle=False, drop_last=True)\n",
    "\n",
    "for _, (X_, Y_) in enumerate(val_loader):\n",
    "    X = X_.to(device)\n",
    "    Y = Y_.to(device)\n",
    "    pred = net(X)\n",
    "    break"
   ]
  },
  {
   "cell_type": "code",
   "execution_count": null,
   "metadata": {},
   "outputs": [],
   "source": [
    "cfg.data.Y_cols_to_log_parameterize_idx"
   ]
  },
  {
   "cell_type": "code",
   "execution_count": null,
   "metadata": {},
   "outputs": [],
   "source": [
    "bnn_post = DoubleGaussianBNNPosterior(val_data.Y_dim, device, cfg.data.Y_cols_to_whiten_idx, cfg.data.train_Y_mean, cfg.data.train_Y_std, cfg.data.Y_cols_to_log_parameterize_idx, )\n",
    "bnn_post.set_sliced_pred(pred)"
   ]
  },
  {
   "cell_type": "code",
   "execution_count": null,
   "metadata": {},
   "outputs": [],
   "source": [
    "#mu_orig = bnn_post.transform_back(bnn_post.mu).cpu().numpy()\n",
    "#mu_orig2 = bnn_post.transform_back(bnn_post.mu2).cpu().numpy()"
   ]
  },
  {
   "cell_type": "code",
   "execution_count": null,
   "metadata": {},
   "outputs": [],
   "source": [
    "import baobab.sim_utils\n",
    "n_samples = 3000 # number of bnn samples per lens\n",
    "bnn_samples = bnn_post.sample(n_samples, sample_seed=0)"
   ]
  },
  {
   "cell_type": "code",
   "execution_count": null,
   "metadata": {},
   "outputs": [],
   "source": [
    "truth = bnn_post.transform_back(Y).cpu().numpy()"
   ]
  },
  {
   "cell_type": "code",
   "execution_count": null,
   "metadata": {},
   "outputs": [],
   "source": [
    "lens_i = 1\n",
    "bnn_sample_df = pd.DataFrame(bnn_samples[lens_i, :, :], columns=cfg.data.Y_cols)\n",
    "truth_lens_i = truth[lens_i, :]\n",
    "print(truth_lens_i)"
   ]
  },
  {
   "cell_type": "code",
   "execution_count": null,
   "metadata": {},
   "outputs": [],
   "source": [
    "mu_orig = bnn_post.transform_back(bnn_post.mu).cpu().numpy()\n",
    "mu_orig2 = bnn_post.transform_back(bnn_post.mu2).cpu().numpy()"
   ]
  },
  {
   "cell_type": "code",
   "execution_count": null,
   "metadata": {},
   "outputs": [],
   "source": [
    "mu_orig[lens_i, :]"
   ]
  },
  {
   "cell_type": "code",
   "execution_count": null,
   "metadata": {},
   "outputs": [],
   "source": [
    "param_idx = 1\n",
    "plt.hist(bnn_samples[lens_i, :, param_idx], bins=30)\n",
    "plt.axvline(mu_orig[lens_i, param_idx], color='r')\n",
    "plt.axvline(mu_orig2[lens_i, param_idx], color='b')"
   ]
  },
  {
   "cell_type": "code",
   "execution_count": null,
   "metadata": {},
   "outputs": [],
   "source": [
    "bnn_samples[lens_i, :, 0]"
   ]
  },
  {
   "cell_type": "code",
   "execution_count": null,
   "metadata": {},
   "outputs": [],
   "source": [
    "prior_Y = torch.Tensor(val_data.Y_df[cfg.data.Y_cols].values)\n",
    "prior_Y = bnn_post.transform_back(prior_Y).cpu().numpy()\n",
    "print(prior_Y.shape)"
   ]
  },
  {
   "cell_type": "code",
   "execution_count": null,
   "metadata": {},
   "outputs": [],
   "source": [
    "import matplotlib\n",
    "matplotlib.rcParams['text.usetex'] = True\n",
    "t = np.linspace(0.0, 1.0, 100)\n",
    "s = np.cos(4 * np.pi * t) + 2\n",
    "\n",
    "fig, ax = plt.subplots(figsize=(6, 4), tight_layout=True)\n",
    "ax.plot(t, s)\n",
    "\n",
    "ax.set_xlabel(r\"$\\theta_E ('')$\")"
   ]
  },
  {
   "cell_type": "code",
   "execution_count": null,
   "metadata": {
    "scrolled": false
   },
   "outputs": [],
   "source": [
    "bnn_post_fig = corner.corner(bnn_sample_df[cfg.data.Y_cols],\n",
    "                             color='tab:red',\n",
    "                             smooth=1.0,\n",
    "                             alpha=0.5,\n",
    "                             labels=cfg.data.Y_cols_latex_names,\n",
    "                             no_fill_contours=True,\n",
    "                             plot_datapoints=False,\n",
    "                             plot_contours=True,\n",
    "                             show_titles=True,\n",
    "                             levels=[0.68, 0.95],\n",
    "                             contour_kwargs=dict(linestyles='solid'),\n",
    "                             quiet=True,\n",
    "                             hist_kwargs=dict(density=True,))\n",
    "\n",
    "bnn_prior_fig = corner.corner(prior_Y,\n",
    "                              color='tab:orange',\n",
    "                              smooth=1.0,\n",
    "                              alpha=0.5,\n",
    "                              no_fill_contours=True,\n",
    "                              plot_datapoints=False,\n",
    "                              plot_contours=True,\n",
    "                              truths=truth_lens_i,\n",
    "                              fig=bnn_post_fig,\n",
    "                              truths_color='tab:green',\n",
    "                              levels=[0.68, 0.95],\n",
    "                              contour_kwargs=dict(linestyles='solid'),\n",
    "                              quiet=True,\n",
    "                              range=[0.99]*len(cfg.data.Y_cols),\n",
    "                              hist_kwargs=dict(density=True, ))"
   ]
  },
  {
   "cell_type": "code",
   "execution_count": null,
   "metadata": {},
   "outputs": [],
   "source": [
    "plus_minus = np.array(cfg.data.Y_cols_range)\n",
    "lower = truth_lens_i - plus_minus\n",
    "upper = truth_lens_i + plus_minus\n",
    "display_range = list(zip(lower, upper))"
   ]
  },
  {
   "cell_type": "code",
   "execution_count": null,
   "metadata": {},
   "outputs": [],
   "source": [
    "_ = corner.corner(bnn_sample_df[cfg.data.Y_cols],\n",
    "                             color='tab:red',\n",
    "                             smooth=1.0,\n",
    "                             alpha=0.5,\n",
    "                             labels=cfg.data.Y_cols_latex_names,\n",
    "                             truths=truth_lens_i,\n",
    "                              truths_color='tab:green',\n",
    "                             no_fill_contours=True,\n",
    "                             plot_datapoints=False,\n",
    "                             plot_contours=True,\n",
    "                             show_titles=True,\n",
    "                             levels=[0.68, 0.95],\n",
    "                              range=display_range,\n",
    "                             contour_kwargs=dict(linestyles='solid'),\n",
    "                             quiet=True,\n",
    "                             hist_kwargs=dict(density=True,))"
   ]
  },
  {
   "cell_type": "code",
   "execution_count": null,
   "metadata": {},
   "outputs": [],
   "source": []
  }
 ],
 "metadata": {
  "kernelspec": {
   "display_name": "Python (baobab)",
   "language": "python",
   "name": "baobab"
  },
  "language_info": {
   "codemirror_mode": {
    "name": "ipython",
    "version": 3
   },
   "file_extension": ".py",
   "mimetype": "text/x-python",
   "name": "python",
   "nbconvert_exporter": "python",
   "pygments_lexer": "ipython3",
   "version": "3.6.9"
  }
 },
 "nbformat": 4,
 "nbformat_minor": 2
}
