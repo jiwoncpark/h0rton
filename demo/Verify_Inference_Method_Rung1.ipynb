{
 "cells": [
  {
   "cell_type": "code",
   "execution_count": null,
   "metadata": {},
   "outputs": [],
   "source": [
    "import os, sys\n",
    "import numpy as np\n",
    "import pandas as pd\n",
    "import astropy.io.fits as pyfits\n",
    "\n",
    "# Plotting\n",
    "import matplotlib\n",
    "import matplotlib.pyplot as plt\n",
    "from mpl_toolkits.axes_grid1 import make_axes_locatable\n",
    "from astropy.visualization import MinMaxInterval, AsinhStretch, ImageNormalize\n",
    "import matplotlib.image as mpimg\n",
    "from mpl_toolkits.axes_grid1 import make_axes_locatable\n",
    "from tqdm import tqdm_notebook\n",
    "import lenstronomy.Util.param_util as param_util\n",
    "\n",
    "# H0rton\n",
    "from scipy.stats import uniform, norm\n",
    "import h0rton.tdlmc_data\n",
    "import h0rton.tdlmc_utils\n",
    "import h0rton.h0_inference\n",
    "\n",
    "%matplotlib inline\n",
    "%load_ext autoreload\n",
    "%autoreload 2"
   ]
  },
  {
   "cell_type": "markdown",
   "metadata": {},
   "source": [
    "## Verifying the inference method on Rung 1 data\n",
    "\n",
    "__Author:__ Ji Won Park (@jiwoncpark) and Joshua Lin (@joshualin24)\n",
    "\n",
    "__Created:__ 9/10/2019\n",
    "\n",
    "__Last run:__ 10/17/2019\n",
    "\n",
    "__Goals:__\n",
    "We verify the inference method \\using the Rung 1 data. By inputting true mass model parameters, we should be able to recover the true H0 when we sample from the H0 posterior.\n",
    "\n",
    "__Before_running:__\n",
    "1. Download and extract the TDLMC data by running `download_tdlmc_data.sh`, e.g. at the root of the repo,\n",
    "```bash\n",
    "source h0rton/tdlmc_data/download_tdlmc_data.sh\n",
    "```\n",
    "2. Combine the Rung 1 data into a csv file by running, in a Python environment,\n",
    "```python\n",
    "import h0rton.tdlmc_utils\n",
    "h0rton.tdlmc_utils.convert_to_dataframe(rung=1, save_csv_path=None)\n",
    "```"
   ]
  },
  {
   "cell_type": "code",
   "execution_count": null,
   "metadata": {},
   "outputs": [],
   "source": [
    "tdlmc_data_path = os.path.abspath(h0rton.tdlmc_data.__path__[0])\n",
    "rung1_combined_path = os.path.join(tdlmc_data_path, 'rung1_combined.csv')\n",
    "df = h0rton.tdlmc_utils.read_from_csv(rung1_combined_path)"
   ]
  },
  {
   "cell_type": "markdown",
   "metadata": {},
   "source": [
    "Let us sample from the H0 posterior of one lens as an example."
   ]
  },
  {
   "cell_type": "code",
   "execution_count": null,
   "metadata": {},
   "outputs": [],
   "source": [
    "example_lens = df.iloc[0]\n",
    "example_lens"
   ]
  },
  {
   "cell_type": "markdown",
   "metadata": {},
   "source": [
    "Here is what a drizzled image of this lens looks like. Pay attention to the ordering of the AGN images."
   ]
  },
  {
   "cell_type": "code",
   "execution_count": null,
   "metadata": {},
   "outputs": [],
   "source": [
    "seed_path = example_lens['seed_path']\n",
    "drizzled_img_path = os.path.join(seed_path, 'drizzled_image', 'lens-image.fits')\n",
    "abcd_path = os.path.join(seed_path, 'ABCD.png')\n",
    "\n",
    "hdul = pyfits.open(drizzled_img_path)\n",
    "print(hdul.info())\n",
    "img = hdul['PRIMARY'].data\n",
    "abcd = plt.imread(abcd_path)\n",
    "\n",
    "plt.subplots(3, figsize=(20, 60))\n",
    "\n",
    "plt.subplot(1, 3, 1)\n",
    "asinh_norm = ImageNormalize(img, interval=MinMaxInterval(), stretch=AsinhStretch())\n",
    "plt.imshow(img, origin='lower left', norm=asinh_norm)\n",
    "plt.title(\"log scale\")\n",
    "\n",
    "plt.subplot(1, 3, 2)\n",
    "plt.imshow(img,  origin='lower left')\n",
    "plt.title(\"regular scale\")\n",
    "\n",
    "plt.subplot(1, 3, 3)\n",
    "plt.imshow(np.flipud(abcd),  origin='lower left')\n",
    "plt.title(\"ABCD\")\n",
    "plt.axis('off')\n",
    "\n",
    "plt.tight_layout()\n",
    "plt.show()\n"
   ]
  },
  {
   "cell_type": "markdown",
   "metadata": {},
   "source": [
    "The `h0rton.h0_inference.H0Posterior` class can be instantiated as follows. Note the minor but important differences in parameter definitions between `lenstronomy` and TDLMC. The `abcd_ordering` (the ordering of A, B, C, D images in increasing dec) is a keyword argument that must be entered manually for each lens.\n",
    "\n",
    "The cell below defines the point source in terms of the source positions. As this quantity is the quantity that's sampled by the TDLMC evil team, it's more precise than using the published image positions (subject to rounding errors)."
   ]
  },
  {
   "cell_type": "code",
   "execution_count": null,
   "metadata": {},
   "outputs": [],
   "source": [
    "e1_lens, e2_lens = param_util.phi_q2_ellipticity(q=example_lens['lens_mass_q'], \n",
    "                                                 phi=example_lens['lens_mass_phi_G'])\n",
    "kwargs_spemd = {'theta_E': example_lens['lens_mass_theta_E'],\n",
    "                'center_x': 0, \n",
    "                'center_y': 0,\n",
    "                'e1': e1_lens, \n",
    "                'e2': e2_lens, \n",
    "                'gamma': example_lens['lens_mass_gamma'],}\n",
    "\n",
    "psi_ext, gamma_ext = param_util.ellipticity2phi_gamma(e1=example_lens['ext_shear_e1'],\n",
    "                                                      e2=example_lens['ext_shear_e2'])\n",
    "kwargs_shear = {'gamma_ext': -gamma_ext,  # Note the minus\n",
    "                'psi_ext': psi_ext + 0.5*np.pi # Note the added term\n",
    "               }\n",
    "\n",
    "kwargs_ps = {'ra_source': example_lens['host_pos'][0],\n",
    "              'dec_source': example_lens['host_pos'][1],}\n",
    "\n",
    "measured_vd = example_lens['measured_vel_disp']\n",
    "measured_vd_err = example_lens['measured_vel_disp_err']\n",
    "\n",
    "measured_td = np.array(example_lens['measured_time_delays'])\n",
    "measured_td_err = np.array(example_lens['measured_time_delays_err'])\n",
    "\n",
    "kwargs_model = {'lens_model_list': ['SPEMD', 'SHEAR_GAMMA_PSI'],\n",
    "                'lens_light_model_list': ['SERSIC_ELLIPSE'],\n",
    "                'source_light_model_list': ['SERSIC_ELLIPSE'],\n",
    "                'point_source_model_list': ['SOURCE_POSITION'],\n",
    "               #'point_source_model_list' : ['LENSED_POSITION']\n",
    "               }\n",
    "\n",
    "r_eff = example_lens['lens_light_R_sersic']\n",
    "\n",
    "post = h0rton.h0_inference.H0Posterior(z_lens=example_lens['z_lens'],\n",
    "                                       z_src=example_lens['z_src'],\n",
    "                                       lens_mass_dict=kwargs_spemd,\n",
    "                                       ext_shear_dict=kwargs_shear,\n",
    "                                       ps_dict=kwargs_ps,\n",
    "                                       measured_vd=measured_vd,\n",
    "                                       measured_vd_err=measured_vd_err,\n",
    "                                       measured_td=measured_td,\n",
    "                                       measured_td_err=measured_td_err,\n",
    "                                       lens_light_R_sersic=r_eff,\n",
    "                                       H0_prior=uniform(loc=50, scale=40),\n",
    "                                       kappa_ext_prior=norm(loc=example_lens['kappa_ext'], scale=1.e-6),\n",
    "                                       aniso_param_prior=uniform(loc=0.5*r_eff, scale=4.5*r_eff),\n",
    "                                       kwargs_model=kwargs_model,\n",
    "                                       abcd_ordering_i=[0, 1, 2, 3],\n",
    "                                      )"
   ]
  },
  {
   "cell_type": "code",
   "execution_count": null,
   "metadata": {},
   "outputs": [],
   "source": [
    "samples_dict = post.get_samples(10000, seed=123, exclude_vel_disp=True)"
   ]
  },
  {
   "cell_type": "code",
   "execution_count": null,
   "metadata": {},
   "outputs": [],
   "source": [
    "plt.hist(samples_dict['H0_samples'],\n",
    "         weights=samples_dict['H0_weights'], bins=50, range=[70, 80], density=True, label='samples')\n",
    "plt.axvline(example_lens['H0'], color='r', label='truth')\n",
    "plt.title(example_lens['name'])\n",
    "plt.xlabel('H0')\n",
    "plt.ylabel('density')\n",
    "plt.legend()"
   ]
  },
  {
   "cell_type": "markdown",
   "metadata": {},
   "source": [
    "Did we order the image positions correctly? It seems so, as the inferred image positions (red) and the published image positions (blue) lie on top of one another."
   ]
  },
  {
   "cell_type": "code",
   "execution_count": null,
   "metadata": {},
   "outputs": [],
   "source": [
    "pixel_scale = 0.08 # after drizzle\n",
    "n_pix = 99//2\n",
    "\n",
    "plt.matshow(img, extent=[-n_pix*pixel_scale, n_pix*pixel_scale, -n_pix*pixel_scale, n_pix*pixel_scale], \n",
    "            origin='lower left', norm=asinh_norm)\n",
    "plt.plot(example_lens['agn_img_pos_x'],\n",
    "         example_lens['agn_img_pos_y'], 'b.')\n",
    "plt.plot(post.reorder_to_tdlmc(post.kwargs_ps[0]['ra_image']),\n",
    "         post.reorder_to_tdlmc(post.kwargs_ps[0]['dec_image']), 'r.')"
   ]
  },
  {
   "cell_type": "markdown",
   "metadata": {},
   "source": [
    "You can also check the offset in arcsec, to ensure that you ordered the image positions and time delays to agree with TDLMC's. You can check that the offste is within a few milliarcseconds."
   ]
  },
  {
   "cell_type": "code",
   "execution_count": null,
   "metadata": {},
   "outputs": [],
   "source": [
    "post.calculate_offset_from_true_image_positions(example_lens['agn_img_pos_x'],\n",
    "                                                example_lens['agn_img_pos_y'])"
   ]
  },
  {
   "cell_type": "markdown",
   "metadata": {},
   "source": [
    "The below cell demonstrates how to define the point source in terms of the image positions instead, although this is not recommended."
   ]
  },
  {
   "cell_type": "code",
   "execution_count": null,
   "metadata": {},
   "outputs": [],
   "source": [
    "e1_lens, e2_lens = param_util.phi_q2_ellipticity(q=example_lens['lens_mass_q'], \n",
    "                                                 phi=example_lens['lens_mass_phi_G'])\n",
    "kwargs_spemd = {'theta_E': example_lens['lens_mass_theta_E'],\n",
    "                'center_x': 0, \n",
    "                'center_y': 0,\n",
    "                'e1': e1_lens, \n",
    "                'e2': e2_lens, \n",
    "                'gamma': example_lens['lens_mass_gamma'],}\n",
    "\n",
    "psi_ext, gamma_ext = param_util.ellipticity2phi_gamma(e1=example_lens['ext_shear_e1'],\n",
    "                                                      e2=example_lens['ext_shear_e2'])\n",
    "kwargs_shear = {'gamma_ext': -gamma_ext,  # Note the minus\n",
    "                'psi_ext': psi_ext + 0.5*np.pi # Note the added term\n",
    "               }\n",
    "\n",
    "kwargs_ps = {'ra_image': example_lens['agn_img_pos_x'],\n",
    "              'dec_image': example_lens['agn_img_pos_y'],}\n",
    "\n",
    "measured_vd = example_lens['measured_vel_disp']\n",
    "measured_vd_err = example_lens['measured_vel_disp_err']\n",
    "\n",
    "measured_td = np.array(example_lens['measured_time_delays'])\n",
    "measured_td_err = np.array(example_lens['measured_time_delays_err'])\n",
    "\n",
    "kwargs_model = {'lens_model_list': ['SPEMD', 'SHEAR_GAMMA_PSI'],\n",
    "                'lens_light_model_list': ['SERSIC_ELLIPSE'],\n",
    "                'source_light_model_list': ['SERSIC_ELLIPSE'],\n",
    "                #'point_source_model_list': ['SOURCE_POSITION'],\n",
    "               'point_source_model_list' : ['LENSED_POSITION']\n",
    "               }\n",
    "\n",
    "r_eff = example_lens['lens_light_R_sersic']\n",
    "\n",
    "post_published_img = h0rton.h0_inference.H0Posterior(z_lens=example_lens['z_lens'],\n",
    "                                       z_src=example_lens['z_src'],\n",
    "                                       lens_mass_dict=kwargs_spemd,\n",
    "                                       ext_shear_dict=kwargs_shear,\n",
    "                                       ps_dict=kwargs_ps,\n",
    "                                       measured_vd=measured_vd,\n",
    "                                       measured_vd_err=measured_vd_err,\n",
    "                                       measured_td=measured_td,\n",
    "                                       measured_td_err=measured_td_err,\n",
    "                                       lens_light_R_sersic=r_eff,\n",
    "                                       H0_prior=uniform(loc=50, scale=40),\n",
    "                                       kappa_ext_prior=norm(loc=0.0, scale=0.025),\n",
    "                                       aniso_param_prior=uniform(loc=0.5*r_eff, scale=4.5*r_eff),\n",
    "                                       kwargs_model=kwargs_model,\n",
    "                                       abcd_ordering_i=[0, 1, 3, 2],\n",
    "                                      )"
   ]
  },
  {
   "cell_type": "markdown",
   "metadata": {},
   "source": [
    "By definition, the offset from the true image positions should be 0 arcsec for each image."
   ]
  },
  {
   "cell_type": "code",
   "execution_count": null,
   "metadata": {},
   "outputs": [],
   "source": [
    "post_published_img.calculate_offset_from_true_image_positions(example_lens['agn_img_pos_x'],\n",
    "                                                        example_lens['agn_img_pos_y'])"
   ]
  },
  {
   "cell_type": "code",
   "execution_count": null,
   "metadata": {},
   "outputs": [],
   "source": [
    "samples_published_img_dict = post_true_img.get_samples(10000, seed=123, exclude_vel_disp=True)"
   ]
  },
  {
   "cell_type": "code",
   "execution_count": null,
   "metadata": {},
   "outputs": [],
   "source": [
    "plt.hist(samples_published_img_dict['H0_samples'],\n",
    "         weights=samples_published_img_dict['H0_weights'], bins=25, density=True, label='samples')\n",
    "plt.axvline(example_lens['H0'], color='r', label='truth')\n",
    "plt.title(example_lens['name'])\n",
    "plt.xlabel('H0')\n",
    "plt.ylabel('density')\n",
    "plt.legend()"
   ]
  }
 ],
 "metadata": {
  "kernelspec": {
   "display_name": "Python (tdlmc)",
   "language": "python",
   "name": "tdlmc"
  },
  "language_info": {
   "codemirror_mode": {
    "name": "ipython",
    "version": 3
   },
   "file_extension": ".py",
   "mimetype": "text/x-python",
   "name": "python",
   "nbconvert_exporter": "python",
   "pygments_lexer": "ipython3",
   "version": "3.6.9"
  }
 },
 "nbformat": 4,
 "nbformat_minor": 2
}
