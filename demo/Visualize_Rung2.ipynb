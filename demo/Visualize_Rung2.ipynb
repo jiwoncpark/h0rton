{
 "cells": [
  {
   "cell_type": "code",
   "execution_count": null,
   "metadata": {},
   "outputs": [],
   "source": [
    "import os, sys\n",
    "import numpy as np\n",
    "import pandas as pd\n",
    "import matplotlib.pyplot as plt\n",
    "import corner\n",
    "import h0rton.tdlmc_data\n",
    "import h0rton.tdlmc_utils\n",
    "\n",
    "%matplotlib inline"
   ]
  },
  {
   "cell_type": "markdown",
   "metadata": {},
   "source": [
    "## Visualizing the Rung2 truth data\n",
    "\n",
    "__Author:__ Ji Won Park (@jiwoncpark)\n",
    "__Created:__ 9/10/2019\n",
    "__Last run:__ 10/17/2019\n",
    "\n",
    "__Goals:__\n",
    "We visualize the Rung 2 data.\n",
    "\n",
    "__Before_running:__\n",
    "Download and extract the TDLMC data by running, e.g. at the root of the repo,\n",
    "```bash\n",
    "source h0rton/tdlmc_data/download_tdlmc_data.sh\n",
    "```"
   ]
  },
  {
   "cell_type": "markdown",
   "metadata": {},
   "source": [
    "The following line converts the TDLMC data into a single dataframe."
   ]
  },
  {
   "cell_type": "code",
   "execution_count": null,
   "metadata": {
    "scrolled": true
   },
   "outputs": [],
   "source": [
    "df = h0rton.tdlmc_utils.convert_to_dataframe(rung=2, save_csv_path=None)"
   ]
  },
  {
   "cell_type": "markdown",
   "metadata": {},
   "source": [
    "Let's additionally compute the offset of the source from the lens center, in arcsec."
   ]
  },
  {
   "cell_type": "code",
   "execution_count": null,
   "metadata": {},
   "outputs": [],
   "source": [
    "df['src_offset'] = np.array([np.linalg.norm(df['host_pos'].iloc[i]) for i in range(len(df))])"
   ]
  },
  {
   "cell_type": "markdown",
   "metadata": {},
   "source": [
    "Here are the list of columns available. Note that, for a single rung, the `H0` values will be the same."
   ]
  },
  {
   "cell_type": "code",
   "execution_count": null,
   "metadata": {},
   "outputs": [],
   "source": [
    "sorted(df.columns.values)"
   ]
  },
  {
   "cell_type": "code",
   "execution_count": null,
   "metadata": {},
   "outputs": [],
   "source": [
    "col_name = 'src_offset'\n",
    "print(\"Mean: \", df[col_name].mean())\n",
    "print(\"Std: \", df[col_name].std())\n",
    "print(\"Min: \", df[col_name].min())\n",
    "plt.hist(df[col_name])"
   ]
  },
  {
   "cell_type": "code",
   "execution_count": null,
   "metadata": {},
   "outputs": [],
   "source": [
    "\n",
    "plt.hist(df['z_src'] - df['z_lens'])"
   ]
  },
  {
   "cell_type": "code",
   "execution_count": null,
   "metadata": {},
   "outputs": [],
   "source": [
    "df['host_pos'].values"
   ]
  },
  {
   "cell_type": "code",
   "execution_count": null,
   "metadata": {},
   "outputs": [],
   "source": [
    "plt.hist([i[1] for i in df['host_pos'].values])"
   ]
  },
  {
   "cell_type": "code",
   "execution_count": null,
   "metadata": {},
   "outputs": [],
   "source": [
    "cols = [\n",
    " #'H0',\n",
    " #'agn_img_amp',\n",
    " #'agn_img_mag',\n",
    " #'agn_img_pos_x',\n",
    " #'agn_img_pos_y',\n",
    " 'agn_src_amp',\n",
    " 'ext_shear_b',\n",
    " #'ext_shear_e1',\n",
    " #'ext_shear_e2',\n",
    " 'ext_shear_phi_G',\n",
    " #'host_img_mag',\n",
    " 'host_mag',\n",
    " #'host_name',\n",
    " #'host_pos',\n",
    " 'host_r_eff',\n",
    " 'kappa_ext',\n",
    " 'lens_light_R_sersic',\n",
    " #'lens_light_amp_sersic',\n",
    " 'lens_light_mag_sersic',\n",
    " 'lens_light_n_sersic',\n",
    " 'lens_light_phi_G',\n",
    " 'lens_light_q',\n",
    " #'lens_mass_center_x',\n",
    " #'lens_mass_center_y',\n",
    " 'lens_mass_gamma',\n",
    " 'lens_mass_phi_G',\n",
    " 'lens_mass_q',\n",
    " 'lens_mass_theta_E',\n",
    " #'measured_time_delays',\n",
    " #'measured_time_delays_err',\n",
    " #'measured_vel_disp',\n",
    " #'measured_vel_disp_err',\n",
    " #'name',\n",
    " #'seed_path',\n",
    " 'src_offset',\n",
    " #'td_distance',\n",
    " #'time_delays',\n",
    " 'vel_disp',\n",
    " 'z_lens',\n",
    " 'z_src']\n",
    "\n",
    "n_params = len(cols)\n",
    "\n",
    "plot = corner.corner(df[cols],\n",
    "                    color='tab:blue', \n",
    "                    smooth1d=None, \n",
    "                    labels=cols,\n",
    "                    show_titles=True,\n",
    "                    fill_contours=False,\n",
    "                    plot_contours=False,\n",
    "                     weights=None,\n",
    "                    range=[1.0]*n_params,\n",
    "                     quiet=True,\n",
    "                    hist_kwargs=dict(density=False, ))"
   ]
  },
  {
   "cell_type": "markdown",
   "metadata": {},
   "source": [
    "Some correlations are not physical. Take this sub-cornerplot:"
   ]
  },
  {
   "cell_type": "code",
   "execution_count": null,
   "metadata": {},
   "outputs": [],
   "source": [
    "cols = [\n",
    " #'H0',\n",
    " #'agn_img_amp',\n",
    " #'agn_img_mag',\n",
    " #'agn_img_pos_x',\n",
    " #'agn_img_pos_y',\n",
    " 'agn_src_amp',\n",
    " 'ext_shear_b',\n",
    " #'ext_shear_e1',\n",
    " #'ext_shear_e2',\n",
    " #'ext_shear_phi_G',\n",
    " #'host_img_mag',\n",
    " 'host_mag',\n",
    " #'host_name',\n",
    " #'host_pos',\n",
    " #'host_r_eff',\n",
    " 'kappa_ext',\n",
    " #'lens_light_R_sersic',\n",
    " #'lens_light_amp_sersic',\n",
    " 'lens_light_mag_sersic',\n",
    " #'lens_light_n_sersic',\n",
    " #'lens_light_phi_G',\n",
    " #'lens_light_q',\n",
    " #'lens_mass_center_x',\n",
    " #'lens_mass_center_y',\n",
    " 'lens_mass_gamma',\n",
    " #'lens_mass_phi_G',\n",
    " #'lens_mass_q',\n",
    " #'lens_mass_theta_E',\n",
    " #'measured_time_delays',\n",
    " #'measured_time_delays_err',\n",
    " #'measured_vel_disp',\n",
    " #'measured_vel_disp_err',\n",
    " #'name',\n",
    " #'seed_path',\n",
    " #'src_offset',\n",
    " #'td_distance',\n",
    " #'time_delays',\n",
    " #'vel_disp',\n",
    " 'z_lens',\n",
    " 'z_src']\n",
    "\n",
    "n_params = len(cols)\n",
    "\n",
    "plot = corner.corner(df[cols],\n",
    "                    color='tab:blue',\n",
    "                    smooth1d=None,\n",
    "                    alpha=1.0,\n",
    "                    labels=cols,\n",
    "                    show_titles=True,\n",
    "                    fill_contours=False,\n",
    "                    plot_contours=False,\n",
    "                     weights=None,\n",
    "                    range=[1.0]*n_params,\n",
    "                     quiet=True,\n",
    "                    hist_kwargs=dict(density=False, ))"
   ]
  },
  {
   "cell_type": "code",
   "execution_count": null,
   "metadata": {},
   "outputs": [],
   "source": []
  }
 ],
 "metadata": {
  "kernelspec": {
   "display_name": "Python (baobab)",
   "language": "python",
   "name": "baobab"
  },
  "language_info": {
   "codemirror_mode": {
    "name": "ipython",
    "version": 3
   },
   "file_extension": ".py",
   "mimetype": "text/x-python",
   "name": "python",
   "nbconvert_exporter": "python",
   "pygments_lexer": "ipython3",
   "version": "3.6.9"
  }
 },
 "nbformat": 4,
 "nbformat_minor": 2
}
