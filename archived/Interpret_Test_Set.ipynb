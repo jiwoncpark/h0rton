{
 "cells": [
  {
   "cell_type": "code",
   "execution_count": 2,
   "metadata": {},
   "outputs": [],
   "source": [
    "# import of standard python libraries\n",
    "import numpy as np\n",
    "import os, sys\n",
    "import time\n",
    "import corner\n",
    "import astropy.io.fits as pyfits\n",
    "\n",
    "import matplotlib\n",
    "import matplotlib.pyplot as plt\n",
    "from mpl_toolkits.axes_grid1 import make_axes_locatable\n",
    "%matplotlib inline\n",
    "\n",
    "from lenstronomy.LensModel.lens_model import LensModel\n",
    "from lenstronomy.LensModel.Solver.lens_equation_solver import LensEquationSolver\n",
    "from lenstronomy.LightModel.light_model import LightModel\n",
    "from lenstronomy.PointSource.point_source import PointSource\n",
    "from lenstronomy.ImSim.image_model import ImageModel\n",
    "import lenstronomy.Util.param_util as param_util\n",
    "import lenstronomy.Util.simulation_util as sim_util\n",
    "import lenstronomy.Util.image_util as image_util\n",
    "from lenstronomy.Util import kernel_util\n",
    "from lenstronomy.Data.imaging_data import ImageData\n",
    "from lenstronomy.Data.psf import PSF\n",
    "from astropy.cosmology import FlatLambdaCDM # TODO: replace with lenstronomy cosmo\n"
   ]
  },
  {
   "cell_type": "code",
   "execution_count": 3,
   "metadata": {},
   "outputs": [
    {
     "data": {
      "text/plain": [
       "'/home/jwp/stage/sl/lenstronomy/lenstronomy/__init__.py'"
      ]
     },
     "execution_count": 3,
     "metadata": {},
     "output_type": "execute_result"
    }
   ],
   "source": [
    "sys.path.append('/home/jwp/stage/sl/lenstronomy')\n",
    "import lenstronomy\n",
    "lenstronomy.__file__"
   ]
  },
  {
   "cell_type": "code",
   "execution_count": 4,
   "metadata": {},
   "outputs": [],
   "source": [
    "# Image specifics\n",
    "sigma_bkg = 0.05  #  background noise per pixel (Gaussian)\n",
    "exp_time = 100.0  #  exposure time (arbitrary units, flux per pixel is in units #photons/exp_time unit)\n",
    "numPix = 100  # cutout pixel size\n",
    "deltaPix = 0.05  #  pixel size in arcsec (area per pixel = deltaPix**2)\n",
    "fwhm = 0.1  # full width half max of PSF (only valid when psf_type='gaussian')\n",
    "psf_type = 'PIXEL'  # 'gaussian', 'pixel', 'NONE'\n",
    "kernel_size = 91"
   ]
  },
  {
   "cell_type": "code",
   "execution_count": 56,
   "metadata": {},
   "outputs": [
    {
     "name": "stdout",
     "output_type": "stream",
     "text": [
      "Filename: data/rung1/code1/f160w-seed101/drizzled_image/lens-image.fits\n",
      "No.    Name      Ver    Type      Cards   Dimensions   Format\n",
      "  0  PRIMARY       1 PrimaryHDU       6   (99, 99)   float32   \n",
      "None\n",
      "3721.285408139229\n"
     ]
    },
    {
     "name": "stderr",
     "output_type": "stream",
     "text": [
      "/home/jwp/.local/lib/python3.5/site-packages/ipykernel_launcher.py:10: RuntimeWarning: invalid value encountered in log\n",
      "  # Remove the CWD from sys.path while we load stuff.\n"
     ]
    },
    {
     "data": {
      "image/png": "[encoded data removed]",
      "text/plain": [
       "<Figure size 432x288 with 2 Axes>"
      ]
     },
     "metadata": {},
     "output_type": "display_data"
    }
   ],
   "source": [
    "rung_fits_path = \"data/rung1/code1/f160w-seed101/drizzled_image/lens-image.fits\"\n",
    "answers_path = 'data/rung1_open_box/code1/f160w-seed101/lens_all_info.txt'\n",
    "\n",
    "\n",
    "hdul = pyfits.open(rung_fits_path)\n",
    "print(hdul.info())\n",
    "img = hdul['PRIMARY'].data\n",
    "print(sum(sum((img))))\n",
    "plt.subplot(1, 2, 1)\n",
    "plt.imshow(np.log(img), origin='lower right')\n",
    "plt.title(\"log scale\")\n",
    "plt.subplot(1, 2, 2)\n",
    "plt.imshow(img,  origin='lower right')\n",
    "plt.title(\"regular scale\")\n",
    "plt.show()\n"
   ]
  },
  {
   "cell_type": "code",
   "execution_count": 4,
   "metadata": {
    "scrolled": true
   },
   "outputs": [
    {
     "name": "stdout",
     "output_type": "stream",
     "text": [
      "Unit:\n",
      "\n",
      "\tLength in arcsecond scale, 'phi_G' is Angle in radian system start from x axis anticlockwise.\n",
      "\n",
      "Cosmological para\n",
      "\n",
      "\tFlatLambdaCDM, with Om=0.27 and H0: 74.151km/s/Mpc\n",
      "\n",
      "Pixel size is 0.13'' and 0.08'' before and after drizzle\n",
      "\n",
      "Time delay distance: TD_distance=(1+z_l)*D_l*D_s/D_ls:8406.369Mpc\n",
      "\n",
      "Time delay of BCD - A :\n",
      "\n",
      "\tarray([ 33.338,  19.063,  -2.23 ])days\n",
      "\n",
      "Zeropoint of filter (AB system): \t25.9463\n",
      "\n",
      "Lens/Source redshift:\t[1.041, 2.251]\n",
      "\n",
      "Lens mass model:\n",
      "\n",
      "\tSPEMD:{'theta_E': 1.133, 'q': 0.709, 'center_x': 0, 'center_y': 0, 'phi_G': 0.539, 'gamma': 2.063}\n",
      "\n",
      "\tShear: \t({'e1': 0.023, 'e2': 0.011}, {'b': 0.026, 'phi_G': 1.793})'\t Note that e1=-b*cos(2*phi_G); e2=-b*sin(2*phi_G)'\n",
      "\n",
      "Lens light: \n",
      "\n",
      "\t{'q': 0.95, 'amp_sersic': 0.093, 'n_sersic': 3.371, 'phi_G': 0.559, 'mag_sersic': 18.033, 'R_sersic': 0.89}\n",
      "\n",
      "Source light in source plane: \n",
      "\n",
      "\tHost galaxy name: NGC4639\tCenterPos: array([ 0.02,  0.02])\n",
      "\n",
      "\tHost mag: 21.291 mag\tHost R_eff: 0.333 arcsec\t\t\t 'The mag and R_eff are set by galfit value'\n",
      "\n",
      "AGN light:\n",
      "\n",
      "\tAGN position in source plane:\t0.02,0.02\n",
      "\n",
      "\tAGN amplitude in source plane:\t75.155\n",
      "\n",
      "\tAGN position in image plane:\tx: array([ 0.831, -0.86 ,  0.928, -0.541])\ty: array([-0.81 , -0.623,  0.62 ,  1.027])\n",
      "\n",
      "\tAGN amplitude in image plane:\tarray([ 463.481,  291.114,  393.48 ,  452.64 ])\n",
      "\n",
      "Host galaxy mag in the image plane: 18.674 mag, AGN total mag in the image plane: 17.936 mag\n",
      "\n",
      "Measured velocity dispersion (no error): \n",
      "\n",
      "\t328.372km/s\n",
      "\n",
      "kappa_ext: \n",
      "\n",
      "\t0.0677\n",
      "\n",
      "Time delay with external kappa i.e. TD_obs=TD*(1-k_ext):\n",
      "\n",
      "\tarray([ 31.082,  17.773,  -2.079])days\n"
     ]
    }
   ],
   "source": [
    " with open(answers_path) as f:\n",
    "    for line in f:\n",
    "        print(line)"
   ]
  },
  {
   "cell_type": "code",
   "execution_count": 6,
   "metadata": {},
   "outputs": [],
   "source": [
    "from lenstronomy.Analysis.lens_properties import LensProp"
   ]
  },
  {
   "cell_type": "code",
   "execution_count": 61,
   "metadata": {},
   "outputs": [
    {
     "data": {
      "text/plain": [
       "(0.40381568157061654, 0.7520049391170354)"
      ]
     },
     "execution_count": 61,
     "metadata": {},
     "output_type": "execute_result"
    }
   ],
   "source": [
    "def e1e1_from_qphi(q, phi):\n",
    "    e = (1 - q)/(1 + q)\n",
    "    e1 = np.cos(2.0*phi)\n",
    "    e2 = np.sin(2.0*phi)\n",
    "    return e1, e2\n",
    "\n",
    "from lenstronomy.Util import param_util\n",
    "param_util.phi_q2_ellipticity(q=0.079, phi=0.539)"
   ]
  },
  {
   "cell_type": "code",
   "execution_count": 62,
   "metadata": {},
   "outputs": [
    {
     "name": "stdout",
     "output_type": "stream",
     "text": [
      "[0.00137437]\n"
     ]
    },
    {
     "ename": "TypeError",
     "evalue": "attribute of type 'int' is not callable",
     "output_type": "error",
     "traceback": [
      "\u001b[0;31m---------------------------------------------------------------------------\u001b[0m",
      "\u001b[0;31mTypeError\u001b[0m                                 Traceback (most recent call last)",
      "\u001b[0;32m<ipython-input-62-840fd70e0831>\u001b[0m in \u001b[0;36m<module>\u001b[0;34m()\u001b[0m\n\u001b[1;32m     63\u001b[0m     \u001b[0;32mpass\u001b[0m\u001b[0;34m\u001b[0m\u001b[0m\n\u001b[1;32m     64\u001b[0m     \u001b[0mlog_w\u001b[0m \u001b[0;34m=\u001b[0m \u001b[0mll_vd\u001b[0m \u001b[0;34m+\u001b[0m \u001b[0mll_td\u001b[0m\u001b[0;34m\u001b[0m\u001b[0m\n\u001b[0;32m---> 65\u001b[0;31m     \u001b[0mw\u001b[0m \u001b[0;34m=\u001b[0m \u001b[0mnp\u001b[0m\u001b[0;34m.\u001b[0m\u001b[0mexp\u001b[0m\u001b[0;34m(\u001b[0m\u001b[0mlog_w\u001b[0m\u001b[0;34m)\u001b[0m\u001b[0;34m\u001b[0m\u001b[0m\n\u001b[0m\u001b[1;32m     66\u001b[0m \u001b[0;34m\u001b[0m\u001b[0m\n\u001b[1;32m     67\u001b[0m     \u001b[0mH0_samples\u001b[0m\u001b[0;34m.\u001b[0m\u001b[0mappend\u001b[0m\u001b[0;34m(\u001b[0m\u001b[0mh0\u001b[0m\u001b[0;34m)\u001b[0m\u001b[0;34m\u001b[0m\u001b[0m\n",
      "\u001b[0;31mTypeError\u001b[0m: attribute of type 'int' is not callable"
     ]
    }
   ],
   "source": [
    "H0_samples = []\n",
    "H0_weights = []\n",
    "N = 10\n",
    "r_eff = 0.89\n",
    "\n",
    "z_lens = 1.041\n",
    "z_src = 2.251\n",
    "\n",
    "# lens mass\n",
    "e1_lens, e2_lens = e1e1_from_qphi(q=0.709, phi=2.063)\n",
    "kwargs_spemd = {'theta_E': 1.133, 'center_x': 0, 'center_y': 0,\n",
    "                'e1': e1_lens, 'e2': e2_lens, 'gamma': 2.063,}\n",
    "kwargs_shear = {'gamma_ext': 0.026, 'psi_ext': 1.793}\n",
    "kwargs_lens = [kwargs_spemd, kwargs_shear]\n",
    "\n",
    "# lens light\n",
    "e1_lens_light, e2_lens_light = e1e1_from_qphi(q=0.95, phi=0.559)\n",
    "kwargs_sersic_lens = {'amp':  0.093, 'R_sersic': 0.89, 'n_sersic': 3.371 , \n",
    "                      'e1': e1_lens_light, 'e2': e2_lens_light, 'center_x': 0, 'center_y': 0}\n",
    "kwargs_lens_light = [kwargs_sersic_lens]\n",
    "\n",
    "# source host\n",
    "e1_src, e2_src = e1e1_from_qphi(q=0.69, phi=np.deg2rad(159.9))\n",
    "kwargs_sersic_source = {'amp': 4000, 'R_sersic': 7.7, 'n_sersic': 1.32,\n",
    "                        'e1': e1_src, 'e2': e2_src,\n",
    "                        'center_x': 0.02, 'center_y': 0.02}\n",
    "kwargs_source = [kwargs_sersic_source]\n",
    "\n",
    "# unlensed agn\n",
    "kwargs_ps = [{'ra_source': 0.02, 'dec_source': 0.02, 'point_amp': 75.155}] \n",
    "\n",
    "measured_vd = 338.685\n",
    "measured_vd_sig = 16.42\n",
    "\n",
    "measured_td = [ 31.239,  17.935,  -2.159]\n",
    "measured_td_sig = [ 0.31,  0.25,  0.25]\n",
    "\n",
    "kwargs_model = {'lens_model_list': ['SPEMD', 'SHEAR_GAMMA_PSI'],\n",
    "                'lens_light_model_list': ['SERSIC_ELLIPSE'],\n",
    "                'source_light_model_list': ['SERSIC_ELLIPSE'],\n",
    "                'point_source_model_list': ['SOURCE_POSITION'],\n",
    "                 }\n",
    "\n",
    "r_eff = kwargs_sersic_lens['R_sersic']\n",
    "\n",
    "for n in range(N):\n",
    "    h0 = np.random.uniform(low=50, high=90)\n",
    "    beta_ani = np.random.uniform(low=0.5*r_eff, high=5.0*r_eff)\n",
    "    k_ext = np.random.normal(loc=0, scale=0.025)\n",
    "    \n",
    "    cosmo = FlatLambdaCDM(H0=h0, Om0=0.27, Ob0=0.0)\n",
    "    lp = LensProp(z_lens, z_src, kwargs_model, cosmo=cosmo)\n",
    "    \n",
    "    vd = lp.velocity_dispersion(kwargs_lens, r_eff, 1.0, 1.0, 0.6, aniso_param=1.0, num_evaluate=1000)\n",
    "    ll_vd = -0.5*(vd - measured_vd)**2.0/measured_vd_sig - np.log(measured_vd_sig)\n",
    "\n",
    "    td = lp.time_delays(kwargs_lens, kwargs_ps, kappa_ext=k_ext)\n",
    "    print(td)\n",
    "\n",
    "    ll_td = 0.0\n",
    "    for i in range(3):\n",
    "        ll_td += -0.5*(td - measured_td[i])**2.0/measured_td_sig[i] - np.log(measured_td_sig[i])\n",
    "    pass\n",
    "    log_w = ll_vd + ll_td\n",
    "    w = np.exp(log_w)\n",
    "\n",
    "    H0_samples.append(h0)\n",
    "    H0_weights.append(w)"
   ]
  },
  {
   "cell_type": "code",
   "execution_count": 78,
   "metadata": {},
   "outputs": [
    {
     "name": "stdout",
     "output_type": "stream",
     "text": [
      "[46.67971545 30.08373384 -4.23623024]\n",
      "-3.9516795447327935 -2454.5222608525924\n",
      "[46.67971545 30.08373384 -4.23623024]\n",
      "-3.9230261154840647 -2454.5222608525924\n",
      "[46.67971545 30.08373384 -4.23623024]\n",
      "-3.9420956342610776 -2454.5222608525924\n",
      "[46.67971545 30.08373384 -4.23623024]\n",
      "-3.9318041167352615 -2454.5222608525924\n",
      "[46.67971545 30.08373384 -4.23623024]\n",
      "-3.9390666554929616 -2454.5222608525924\n"
     ]
    },
    {
     "ename": "KeyboardInterrupt",
     "evalue": "",
     "output_type": "error",
     "traceback": [
      "\u001b[0;31m---------------------------------------------------------------------------\u001b[0m",
      "\u001b[0;31mKeyboardInterrupt\u001b[0m                         Traceback (most recent call last)",
      "\u001b[0;32m<ipython-input-78-21201de9a216>\u001b[0m in \u001b[0;36m<module>\u001b[0;34m()\u001b[0m\n\u001b[1;32m     47\u001b[0m     \u001b[0mlp\u001b[0m \u001b[0;34m=\u001b[0m \u001b[0mLensProp\u001b[0m\u001b[0;34m(\u001b[0m\u001b[0mz_lens\u001b[0m\u001b[0;34m,\u001b[0m \u001b[0mz_src\u001b[0m\u001b[0;34m,\u001b[0m \u001b[0mkwargs_model\u001b[0m\u001b[0;34m,\u001b[0m \u001b[0mcosmo\u001b[0m\u001b[0;34m=\u001b[0m\u001b[0mcosmo\u001b[0m\u001b[0;34m)\u001b[0m\u001b[0;34m\u001b[0m\u001b[0m\n\u001b[1;32m     48\u001b[0m \u001b[0;34m\u001b[0m\u001b[0m\n\u001b[0;32m---> 49\u001b[0;31m     \u001b[0mvd\u001b[0m \u001b[0;34m=\u001b[0m \u001b[0mlp\u001b[0m\u001b[0;34m.\u001b[0m\u001b[0mvelocity_dispersion\u001b[0m\u001b[0;34m(\u001b[0m\u001b[0mkwargs_lens\u001b[0m\u001b[0;34m,\u001b[0m \u001b[0mr_eff\u001b[0m\u001b[0;34m,\u001b[0m \u001b[0;36m1.0\u001b[0m\u001b[0;34m,\u001b[0m \u001b[0;36m1.0\u001b[0m\u001b[0;34m,\u001b[0m \u001b[0;36m0.6\u001b[0m\u001b[0;34m,\u001b[0m \u001b[0maniso_param\u001b[0m\u001b[0;34m=\u001b[0m\u001b[0;36m1.0\u001b[0m\u001b[0;34m/\u001b[0m\u001b[0mr_eff\u001b[0m\u001b[0;34m,\u001b[0m \u001b[0mnum_evaluate\u001b[0m\u001b[0;34m=\u001b[0m\u001b[0;36m1000\u001b[0m\u001b[0;34m)\u001b[0m\u001b[0;34m\u001b[0m\u001b[0m\n\u001b[0m\u001b[1;32m     50\u001b[0m     \u001b[0mvd\u001b[0m \u001b[0;34m=\u001b[0m \u001b[0mfloat\u001b[0m\u001b[0;34m(\u001b[0m\u001b[0mvd\u001b[0m\u001b[0;34m)\u001b[0m\u001b[0;34m\u001b[0m\u001b[0m\n\u001b[1;32m     51\u001b[0m     \u001b[0mll_vd\u001b[0m \u001b[0;34m=\u001b[0m \u001b[0;34m-\u001b[0m\u001b[0;36m0.5\u001b[0m\u001b[0;34m*\u001b[0m\u001b[0;34m(\u001b[0m\u001b[0mvd\u001b[0m \u001b[0;34m-\u001b[0m \u001b[0mmeasured_vd\u001b[0m\u001b[0;34m)\u001b[0m\u001b[0;34m**\u001b[0m\u001b[0;36m2.0\u001b[0m\u001b[0;34m/\u001b[0m\u001b[0mmeasured_vd_sig\u001b[0m\u001b[0;34m**\u001b[0m\u001b[0;36m2.0\u001b[0m \u001b[0;34m-\u001b[0m \u001b[0;36m0.5\u001b[0m\u001b[0;34m*\u001b[0m\u001b[0mnp\u001b[0m\u001b[0;34m.\u001b[0m\u001b[0mlog\u001b[0m\u001b[0;34m(\u001b[0m\u001b[0;36m2.0\u001b[0m\u001b[0;34m*\u001b[0m\u001b[0mnp\u001b[0m\u001b[0;34m.\u001b[0m\u001b[0mpi\u001b[0m\u001b[0;34m*\u001b[0m\u001b[0mmeasured_vd_sig\u001b[0m\u001b[0;34m**\u001b[0m\u001b[0;36m2.0\u001b[0m\u001b[0;34m)\u001b[0m\u001b[0;34m\u001b[0m\u001b[0m\n",
      "\u001b[0;32m~/stage/sl/lenstronomy/lenstronomy/Analysis/lens_properties.py\u001b[0m in \u001b[0;36mvelocity_dispersion\u001b[0;34m(self, kwargs_lens, r_eff, R_slit, dR_slit, psf_fwhm, aniso_param, num_evaluate)\u001b[0m\n\u001b[1;32m     71\u001b[0m         \u001b[0mr_ani\u001b[0m \u001b[0;34m=\u001b[0m \u001b[0maniso_param\u001b[0m \u001b[0;34m*\u001b[0m \u001b[0mr_eff\u001b[0m\u001b[0;34m\u001b[0m\u001b[0m\n\u001b[1;32m     72\u001b[0m         sigma2 = self.analytic_kinematics.vel_disp(gamma, theta_E, r_eff, r_ani, R_slit, dR_slit, FWHM=psf_fwhm,\n\u001b[0;32m---> 73\u001b[0;31m                                                    rendering_number=num_evaluate)\n\u001b[0m\u001b[1;32m     74\u001b[0m         \u001b[0;32mreturn\u001b[0m \u001b[0msigma2\u001b[0m\u001b[0;34m\u001b[0m\u001b[0m\n\u001b[1;32m     75\u001b[0m \u001b[0;34m\u001b[0m\u001b[0m\n",
      "\u001b[0;32m~/stage/sl/lenstronomy/lenstronomy/GalKin/analytic_kinematics.py\u001b[0m in \u001b[0;36mvel_disp\u001b[0;34m(self, gamma, theta_E, r_eff, r_ani, R_slit, dR_slit, FWHM, rendering_number)\u001b[0m\n\u001b[1;32m     55\u001b[0m         \u001b[0mrho0_r0_gamma\u001b[0m \u001b[0;34m=\u001b[0m \u001b[0mself\u001b[0m\u001b[0;34m.\u001b[0m\u001b[0m_rho0_r0_gamma\u001b[0m\u001b[0;34m(\u001b[0m\u001b[0mtheta_E\u001b[0m\u001b[0;34m,\u001b[0m \u001b[0mgamma\u001b[0m\u001b[0;34m)\u001b[0m\u001b[0;34m\u001b[0m\u001b[0m\n\u001b[1;32m     56\u001b[0m         \u001b[0;32mfor\u001b[0m \u001b[0mi\u001b[0m \u001b[0;32min\u001b[0m \u001b[0mrange\u001b[0m\u001b[0;34m(\u001b[0m\u001b[0;36m0\u001b[0m\u001b[0;34m,\u001b[0m \u001b[0mrendering_number\u001b[0m\u001b[0;34m)\u001b[0m\u001b[0;34m:\u001b[0m\u001b[0;34m\u001b[0m\u001b[0m\n\u001b[0;32m---> 57\u001b[0;31m             \u001b[0msigma_s2_draw\u001b[0m \u001b[0;34m=\u001b[0m \u001b[0mself\u001b[0m\u001b[0;34m.\u001b[0m\u001b[0mvel_disp_one\u001b[0m\u001b[0;34m(\u001b[0m\u001b[0mgamma\u001b[0m\u001b[0;34m,\u001b[0m \u001b[0mrho0_r0_gamma\u001b[0m\u001b[0;34m,\u001b[0m \u001b[0mr_eff\u001b[0m\u001b[0;34m,\u001b[0m \u001b[0mr_ani\u001b[0m\u001b[0;34m,\u001b[0m \u001b[0mR_slit\u001b[0m\u001b[0;34m,\u001b[0m \u001b[0mdR_slit\u001b[0m\u001b[0;34m,\u001b[0m \u001b[0mFWHM\u001b[0m\u001b[0;34m)\u001b[0m\u001b[0;34m\u001b[0m\u001b[0m\n\u001b[0m\u001b[1;32m     58\u001b[0m             \u001b[0msigma_s2_sum\u001b[0m \u001b[0;34m+=\u001b[0m \u001b[0msigma_s2_draw\u001b[0m\u001b[0;34m\u001b[0m\u001b[0m\n\u001b[1;32m     59\u001b[0m         \u001b[0msigma_s2_average\u001b[0m \u001b[0;34m=\u001b[0m \u001b[0msigma_s2_sum\u001b[0m \u001b[0;34m/\u001b[0m \u001b[0mrendering_number\u001b[0m\u001b[0;34m\u001b[0m\u001b[0m\n",
      "\u001b[0;32m~/stage/sl/lenstronomy/lenstronomy/GalKin/analytic_kinematics.py\u001b[0m in \u001b[0;36mvel_disp_one\u001b[0;34m(self, gamma, rho0_r0_gamma, r_eff, r_ani, R_slit, dR_slit, FWHM)\u001b[0m\n\u001b[1;32m     81\u001b[0m         \u001b[0;32mwhile\u001b[0m \u001b[0;32mTrue\u001b[0m\u001b[0;34m:\u001b[0m\u001b[0;34m\u001b[0m\u001b[0m\n\u001b[1;32m     82\u001b[0m             \u001b[0mr\u001b[0m \u001b[0;34m=\u001b[0m \u001b[0mself\u001b[0m\u001b[0;34m.\u001b[0m\u001b[0mP_r\u001b[0m\u001b[0;34m(\u001b[0m\u001b[0ma\u001b[0m\u001b[0;34m)\u001b[0m  \u001b[0;31m# draw r\u001b[0m\u001b[0;34m\u001b[0m\u001b[0m\n\u001b[0;32m---> 83\u001b[0;31m             \u001b[0mR\u001b[0m\u001b[0;34m,\u001b[0m \u001b[0mx\u001b[0m\u001b[0;34m,\u001b[0m \u001b[0my\u001b[0m \u001b[0;34m=\u001b[0m \u001b[0mself\u001b[0m\u001b[0;34m.\u001b[0m\u001b[0mR_r\u001b[0m\u001b[0;34m(\u001b[0m\u001b[0mr\u001b[0m\u001b[0;34m)\u001b[0m  \u001b[0;31m# draw projected R\u001b[0m\u001b[0;34m\u001b[0m\u001b[0m\n\u001b[0m\u001b[1;32m     84\u001b[0m             \u001b[0mx_\u001b[0m\u001b[0;34m,\u001b[0m \u001b[0my_\u001b[0m \u001b[0;34m=\u001b[0m \u001b[0mself\u001b[0m\u001b[0;34m.\u001b[0m\u001b[0mdisplace_PSF\u001b[0m\u001b[0;34m(\u001b[0m\u001b[0mx\u001b[0m\u001b[0;34m,\u001b[0m \u001b[0my\u001b[0m\u001b[0;34m,\u001b[0m \u001b[0mFWHM\u001b[0m\u001b[0;34m)\u001b[0m  \u001b[0;31m# displace via PSF\u001b[0m\u001b[0;34m\u001b[0m\u001b[0m\n\u001b[1;32m     85\u001b[0m             \u001b[0mbool\u001b[0m \u001b[0;34m=\u001b[0m \u001b[0mself\u001b[0m\u001b[0;34m.\u001b[0m\u001b[0mcheck_in_slit\u001b[0m\u001b[0;34m(\u001b[0m\u001b[0mx_\u001b[0m\u001b[0;34m,\u001b[0m \u001b[0my_\u001b[0m\u001b[0;34m,\u001b[0m \u001b[0mR_slit\u001b[0m\u001b[0;34m,\u001b[0m \u001b[0mdR_slit\u001b[0m\u001b[0;34m)\u001b[0m\u001b[0;34m\u001b[0m\u001b[0m\n",
      "\u001b[0;32m~/stage/sl/lenstronomy/lenstronomy/GalKin/analytic_kinematics.py\u001b[0m in \u001b[0;36mR_r\u001b[0;34m(self, r)\u001b[0m\n\u001b[1;32m    108\u001b[0m         \u001b[0mtheta\u001b[0m \u001b[0;34m=\u001b[0m \u001b[0mnp\u001b[0m\u001b[0;34m.\u001b[0m\u001b[0mrandom\u001b[0m\u001b[0;34m.\u001b[0m\u001b[0muniform\u001b[0m\u001b[0;34m(\u001b[0m\u001b[0;36m0\u001b[0m\u001b[0;34m,\u001b[0m \u001b[0mnp\u001b[0m\u001b[0;34m.\u001b[0m\u001b[0mpi\u001b[0m\u001b[0;34m)\u001b[0m\u001b[0;34m\u001b[0m\u001b[0m\n\u001b[1;32m    109\u001b[0m         \u001b[0mx\u001b[0m \u001b[0;34m=\u001b[0m \u001b[0mr\u001b[0m \u001b[0;34m*\u001b[0m \u001b[0mnp\u001b[0m\u001b[0;34m.\u001b[0m\u001b[0msin\u001b[0m\u001b[0;34m(\u001b[0m\u001b[0mtheta\u001b[0m\u001b[0;34m)\u001b[0m \u001b[0;34m*\u001b[0m \u001b[0mnp\u001b[0m\u001b[0;34m.\u001b[0m\u001b[0mcos\u001b[0m\u001b[0;34m(\u001b[0m\u001b[0mphi\u001b[0m\u001b[0;34m)\u001b[0m\u001b[0;34m\u001b[0m\u001b[0m\n\u001b[0;32m--> 110\u001b[0;31m         \u001b[0my\u001b[0m \u001b[0;34m=\u001b[0m \u001b[0mr\u001b[0m \u001b[0;34m*\u001b[0m \u001b[0mnp\u001b[0m\u001b[0;34m.\u001b[0m\u001b[0msin\u001b[0m\u001b[0;34m(\u001b[0m\u001b[0mtheta\u001b[0m\u001b[0;34m)\u001b[0m \u001b[0;34m*\u001b[0m \u001b[0mnp\u001b[0m\u001b[0;34m.\u001b[0m\u001b[0msin\u001b[0m\u001b[0;34m(\u001b[0m\u001b[0mphi\u001b[0m\u001b[0;34m)\u001b[0m\u001b[0;34m\u001b[0m\u001b[0m\n\u001b[0m\u001b[1;32m    111\u001b[0m         \u001b[0mR\u001b[0m \u001b[0;34m=\u001b[0m \u001b[0mnp\u001b[0m\u001b[0;34m.\u001b[0m\u001b[0msqrt\u001b[0m\u001b[0;34m(\u001b[0m\u001b[0mx\u001b[0m\u001b[0;34m**\u001b[0m\u001b[0;36m2\u001b[0m \u001b[0;34m+\u001b[0m \u001b[0my\u001b[0m\u001b[0;34m**\u001b[0m\u001b[0;36m2\u001b[0m\u001b[0;34m)\u001b[0m\u001b[0;34m\u001b[0m\u001b[0m\n\u001b[1;32m    112\u001b[0m         \u001b[0;32mreturn\u001b[0m \u001b[0mR\u001b[0m\u001b[0;34m,\u001b[0m \u001b[0mx\u001b[0m\u001b[0;34m,\u001b[0m \u001b[0my\u001b[0m\u001b[0;34m\u001b[0m\u001b[0m\n",
      "\u001b[0;31mKeyboardInterrupt\u001b[0m: "
     ]
    }
   ],
   "source": [
    "H0_samples = []\n",
    "H0_weights = []\n",
    "N = 20\n",
    "r_eff = 0.89\n",
    "\n",
    "z_lens = 1.041\n",
    "z_src = 2.251\n",
    "\n",
    "# lens mass\n",
    "e1_lens, e2_lens = param_util.phi_q2_ellipticity(q=0.709, phi=0.539)\n",
    "kwargs_spemd = {'theta_E': 1.133, 'center_x': 0, 'center_y': 0,\n",
    "                'e1': e1_lens, 'e2': e2_lens, 'gamma': 2.063,}\n",
    "kwargs_shear = {'gamma_ext': 0.026, 'psi_ext': 1.793}\n",
    "kwargs_lens = [kwargs_spemd, kwargs_shear]\n",
    "\n",
    "# lens light\n",
    "e1_lens_light, e2_lens_light = param_util.phi_q2_ellipticity(q=0.95, phi=0.559)\n",
    "kwargs_sersic_lens = {'amp':  0.093, 'R_sersic': 0.89, 'n_sersic': 3.371 , \n",
    "                      'e1': e1_lens_light, 'e2': e2_lens_light, 'center_x': 0, 'center_y': 0}\n",
    "kwargs_lens_light = [kwargs_sersic_lens]\n",
    "\n",
    "# unlensed agn\n",
    "kwargs_ps = [{'ra_image': [0.831, -0.86 ,  0.928, -0.541], \n",
    "              'dec_image': [-0.81 , -0.623,  0.62 ,  1.027], 'point_amp': 75.155}] \n",
    "\n",
    "measured_vd = 338.685\n",
    "measured_vd_sig = 16.42\n",
    "\n",
    "measured_td = np.array([ 31.239,  17.935,  -2.159])\n",
    "measured_td_sig = np.array([ 0.31,  0.25,  0.25])\n",
    "\n",
    "kwargs_model = {'lens_model_list': ['SPEMD', 'SHEAR_GAMMA_PSI'],\n",
    "                'lens_light_model_list': ['SERSIC_ELLIPSE'],\n",
    "                'source_light_model_list': ['SERSIC_ELLIPSE'],\n",
    "                'point_source_model_list': ['LENSED_POSITION'],\n",
    "                 }\n",
    "\n",
    "r_eff = kwargs_sersic_lens['R_sersic']\n",
    "\n",
    "for n in range(N):\n",
    "    #h0 = np.random.uniform(low=50, high=90)\n",
    "    h0 = 74.151\n",
    "    #k_ext = np.random.normal(loc=0, scale=0.025)\n",
    "    k_ext = 0.0677\n",
    "    \n",
    "    cosmo = FlatLambdaCDM(H0=h0, Om0=0.27, Ob0=0.0)\n",
    "    lp = LensProp(z_lens, z_src, kwargs_model, cosmo=cosmo)\n",
    "    \n",
    "    vd = lp.velocity_dispersion(kwargs_lens, r_eff, 1.0, 1.0, 0.6, aniso_param=1.0/r_eff, num_evaluate=1000)\n",
    "    vd = float(vd)\n",
    "    ll_vd = -0.5*(vd - measured_vd)**2.0/measured_vd_sig**2.0 - 0.5*np.log(2.0*np.pi*measured_vd_sig**2.0)\n",
    "\n",
    "    td_abs = np.array(lp.time_delays(kwargs_lens, kwargs_ps, kappa_ext=k_ext))\n",
    "    td_rel = td_abs[1:] - td_abs[0]\n",
    "    \n",
    "    ll_td = np.sum(-0.5*(td_rel - measured_td)**2.0/measured_td_sig**2.0 -0.5*np.log(2.0*np.pi*measured_td_sig**2.0))\n",
    "    \n",
    "    print(td_rel)\n",
    "    print(ll_vd, ll_td)\n",
    "    \n",
    "    log_w = ll_vd + ll_td\n",
    "    w = np.exp(log_w)\n",
    "\n",
    "    H0_samples.append(h0)\n",
    "    H0_weights.append(w)\n",
    "    \n",
    "print(\"Samples obtained\")\n",
    "    "
   ]
  },
  {
   "cell_type": "code",
   "execution_count": null,
   "metadata": {},
   "outputs": [],
   "source": []
  },
  {
   "cell_type": "code",
   "execution_count": 68,
   "metadata": {},
   "outputs": [
    {
     "name": "stderr",
     "output_type": "stream",
     "text": [
      "/usr/local/lib/python3.5/dist-packages/numpy/lib/histograms.py:893: RuntimeWarning: invalid value encountered in true_divide\n",
      "  return n/db/n.sum(), bin_edges\n"
     ]
    },
    {
     "data": {
      "text/plain": [
       "(array([ 0.,  0.,  0.,  0.,  0.,  0.,  0.,  0.,  0.,  0.,  0.,  0.,  0.,\n",
       "         0.,  0.,  0.,  0.,  0.,  0.,  0.,  0.,  0.,  0.,  0.,  0.,  0.,\n",
       "         0.,  0.,  0., nan]),\n",
       " array([51.56859726, 52.61873852, 53.66887978, 54.71902104, 55.7691623 ,\n",
       "        56.81930356, 57.86944482, 58.91958608, 59.96972734, 61.0198686 ,\n",
       "        62.07000986, 63.12015112, 64.17029238, 65.22043364, 66.2705749 ,\n",
       "        67.32071616, 68.37085741, 69.42099867, 70.47113993, 71.52128119,\n",
       "        72.57142245, 73.62156371, 74.67170497, 75.72184623, 76.77198749,\n",
       "        77.82212875, 78.87227001, 79.92241127, 80.97255253, 82.02269379,\n",
       "        83.07283505]),\n",
       " <a list of 30 Patch objects>)"
      ]
     },
     "execution_count": 68,
     "metadata": {},
     "output_type": "execute_result"
    },
    {
     "data": {
      "image/png": "[encoded data removed]",
      "text/plain": [
       "<Figure size 432x288 with 1 Axes>"
      ]
     },
     "metadata": {},
     "output_type": "display_data"
    }
   ],
   "source": [
    "plt.hist(H0_samples, bins=30, weights=H0_weights, density=True)"
   ]
  },
  {
   "cell_type": "code",
   "execution_count": 23,
   "metadata": {},
   "outputs": [
    {
     "name": "stdout",
     "output_type": "stream",
     "text": [
      "[{'dec_source': 0.02, 'ra_source': 0.02, 'point_amp': 75.155}]\n",
      "[{'e2': 0.881013386870012, 'center_x': 0, 'theta_E': 1.133, 'e1': 0.47309133595515224, 'gamma': 2.063, 'center_y': 0}, {'gamma_ext': 0.026, 'psi_ext': 1.793}]\n"
     ]
    },
    {
     "data": {
      "text/plain": [
       "([array([0.01932001])], [array([0.02025963])])"
      ]
     },
     "execution_count": 23,
     "metadata": {},
     "output_type": "execute_result"
    }
   ],
   "source": [
    "\n",
    "print(kwargs_ps)\n",
    "print(kwargs_lens)\n",
    "lp.lens_analysis.PointSource.image_position(kwargs_ps=kwargs_ps, kwargs_lens=kwargs_lens)"
   ]
  },
  {
   "cell_type": "code",
   "execution_count": null,
   "metadata": {},
   "outputs": [],
   "source": []
  }
 ],
 "metadata": {
  "kernelspec": {
   "display_name": "python3.5",
   "language": "python",
   "name": "python3.5"
  },
  "language_info": {
   "codemirror_mode": {
    "name": "ipython",
    "version": 3
   },
   "file_extension": ".py",
   "mimetype": "text/x-python",
   "name": "python",
   "nbconvert_exporter": "python",
   "pygments_lexer": "ipython3",
   "version": "3.5.2"
  }
 },
 "nbformat": 4,
 "nbformat_minor": 2
}
