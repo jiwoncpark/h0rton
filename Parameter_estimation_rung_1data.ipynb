{
 "cells": [
  {
   "cell_type": "code",
   "execution_count": 10,
   "metadata": {},
   "outputs": [],
   "source": [
    "import numpy as np\n",
    "import scipy as sp\n",
    "import os\n",
    "from astropy.io import fits\n",
    "import matplotlib.pyplot as plt\n",
    "import torch\n",
    "import torch\n",
    "import torch.nn as nn\n",
    "import torch.nn.functional as F\n",
    "from torch.utils.data import Dataset\n",
    "from  torch.autograd import Variable\n",
    "import torch.optim as optim\n",
    "from torchvision import datasets, transforms\n",
    "import torchvision.models as models\n",
    "import numpy as np\n",
    "import os\n",
    "import time\n",
    "import corner\n",
    "import astropy.io.fits as pyfits\n",
    "import sys\n",
    "import argparse\n",
    "from tqdm import tqdm\n",
    "import pandas as pd\n",
    "import gc\n",
    "import scipy.ndimage\n",
    "import datetime"
   ]
  },
  {
   "cell_type": "code",
   "execution_count": 11,
   "metadata": {},
   "outputs": [
    {
     "name": "stdout",
     "output_type": "stream",
     "text": [
      "Pixel size is 0.13'' and 0.08'' before and after drizzle\n",
      "Zeropoint of filter (AB system): \t25.9463\n",
      "Lens/Source redshift:\t[0.834, 2.37]\n",
      "External Convergence: Kext= 0 +/- 0.025\n",
      "Measured velocity dispersion: \n",
      "\t326.49km/s, error level: 15.6km/s\n",
      "Time delay of BCD - A :\n",
      "\tarray([-25.853, -27.017,  -7.388])days, error level: array([ 0.26,  0.27,  0.25])days\n",
      "###############correct answer#############\n",
      "Unit:\n",
      "Length in arcsecond scale, 'phi_G' is Angle in radian system start from x axis anticlockwise.\n",
      "Cosmological para\n",
      "FlatLambdaCDM, with Om=0.27 and H0: 74.151km/s/Mpc\n",
      "Pixel size is 0.13'' and 0.08'' before and after drizzle\n",
      "Time delay distance: TD_distance=(1+z_l)*D_l*D_s/D_ls:5536.242Mpc\n",
      "Time delay of BCD - A :\n",
      "array([-26.732, -28.564,  -7.796])days\n",
      "Zeropoint of filter (AB system): \t25.9463\n",
      "Lens/Source redshift:\t[0.834, 2.37]\n",
      "Lens mass model:\n",
      "SPEMD:{'theta_E': 1.224, 'q': 0.79, 'center_x': 0, 'center_y': 0, 'phi_G': 2.296, 'gamma': 2.093}\n",
      "Shear: \t({'e1': 0.013, 'e2': 0.027}, {'b': 0.03, 'phi_G': 2.124})'\t Note that e1=-b*cos(2*phi_G); e2=-b*sin(2*phi_G)'\n",
      "Lens light:\n",
      "{'q': 0.943, 'amp_sersic': 0.063, 'n_sersic': 3.157, 'phi_G': 2.332, 'mag_sersic': 18.195, 'R_sersic': 1.026}\n",
      "Source light in source plane:\n",
      "Host galaxy name: NGC6503\tCenterPos: array([-0.01,  0.02])\n",
      "Host mag: 21.494 mag\tHost R_eff: 0.337 arcsec\t\t\t 'The mag and R_eff are set by galfit value'\n",
      "AGN light:\n",
      "AGN position in source plane:\t-0.01,0.02\n",
      "AGN amplitude in source plane:\t64.535\n",
      "AGN position in image plane:\tx: array([ 0.698, -1.079,  0.939, -0.754])\ty: array([-0.892, -0.703,  0.892,  0.896])\n",
      "AGN amplitude in image plane:\tarray([ 230.256,  334.394,  324.148,  280.631])\n",
      "Host galaxy mag in the image plane: 18.669 mag, AGN total mag in the image plane: 18.276 mag\n",
      "Measured velocity dispersion (no error):\n",
      "312.045km/s\n",
      "kappa_ext:\n",
      "0.0417\n",
      "Time delay with external kappa i.e. TD_obs=TD*(1-k_ext):\n",
      "array([-25.617, -27.372,  -7.471])days\n"
     ]
    }
   ],
   "source": [
    "rung_fits_path = \"/media/joshua/HDD_fun2/time_delay_challenge/rung1/code1/f160w-seed102/\"\n",
    "f = open(rung_fits_path + \"lens_info_for_Good_team.txt\", \"r\") \n",
    "print(f.read())\n",
    "print(\"###############correct answer#############\")\n",
    "with open('/media/joshua/HDD_fun2/time_delay_challenge/rung1_open_box/code1/f160w-seed102/lens_all_info.txt') as f:\n",
    "    for line in f:\n",
    "        print(line.strip())"
   ]
  },
  {
   "cell_type": "code",
   "execution_count": 12,
   "metadata": {
    "scrolled": false
   },
   "outputs": [
    {
     "name": "stdout",
     "output_type": "stream",
     "text": [
      "Filename: /media/joshua/HDD_fun2/time_delay_challenge/rung1/code1/f160w-seed102/drizzled_image/lens-image.fits\n",
      "No.    Name      Ver    Type      Cards   Dimensions   Format\n",
      "  0  PRIMARY       1 PrimaryHDU       6   (99, 99)   float32   \n",
      "None\n",
      "3093.464002966881\n"
     ]
    },
    {
     "name": "stderr",
     "output_type": "stream",
     "text": [
      "/home/joshua/miniconda3/envs/LSST/lib/python3.6/site-packages/ipykernel/__main__.py:12: RuntimeWarning: invalid value encountered in log\n"
     ]
    },
    {
     "data": {
      "image/png": "[encoded data removed]",
      "text/plain": [
       "<Figure size 432x288 with 2 Axes>"
      ]
     },
     "metadata": {
      "needs_background": "light"
     },
     "output_type": "display_data"
    }
   ],
   "source": [
    "rung_fits_path = \"/media/joshua/HDD_fun2/time_delay_challenge/rung1/code1/f160w-seed102/drizzled_image/lens-image.fits\"\n",
    "\n",
    "#files = os.listdir(rung_fits_path)\n",
    "# for file in files:\n",
    "#     print(file)\n",
    "try:\n",
    "    hdul = fits.open(rung_fits_path)\n",
    "    print(hdul.info())\n",
    "    img = hdul['PRIMARY'].data\n",
    "    print(sum(sum((img))))\n",
    "    plt.subplot(1, 2, 1)\n",
    "    plt.imshow(np.log(img))\n",
    "    plt.title(\"log scale\")\n",
    "    plt.subplot(1, 2, 2)\n",
    "    plt.imshow(img)\n",
    "    plt.title(\"regular scale\")\n",
    "    plt.show()\n",
    "except:\n",
    "    pass\n"
   ]
  },
  {
   "cell_type": "code",
   "execution_count": 13,
   "metadata": {
    "scrolled": false
   },
   "outputs": [
    {
     "name": "stdout",
     "output_type": "stream",
     "text": [
      "loaded mdl！\n",
      "/home/joshua/Documents/git_work_zone/time_delay_challenge\n"
     ]
    },
    {
     "data": {
      "text/plain": [
       "tensor([[ 1.2845,  2.1991, -0.1367, -0.0356, -0.0480, -0.0239, -0.0312,  0.0278,\n",
       "         -0.0071,  2.8616,  0.1711,  0.9521,  0.0409,  0.0911, -0.0216,  0.0461,\n",
       "         -0.0251,  1.0451]], device='cuda:0', grad_fn=<ThAddmmBackward>)"
      ]
     },
     "execution_count": 13,
     "metadata": {},
     "output_type": "execute_result"
    }
   ],
   "source": [
    "loaded_model_path = './saved_model/2019-08-16power_law_pred_resnet18.mdl'\n",
    "\n",
    "\n",
    "if os.path.exists(loaded_model_path):\n",
    "    net = torch.load(loaded_model_path)\n",
    "    print('loaded mdl！')\n",
    "else:\n",
    "    print('No model to load. Should stop!')\n",
    "    \n",
    "print(os.getcwd()) \n",
    "\n",
    "\n",
    "normalize = transforms.Normalize(mean=[0.485, 0.456, 0.406],std=[0.229, 0.224, 0.225])\n",
    "data_transform = transforms.Compose([\n",
    "            transforms.ToTensor(), # scale to [0,1] and convert to tensor\n",
    "            normalize,\n",
    "            ])\n",
    "target_transform = torch.Tensor\n",
    "\n",
    "\n",
    "real_data = scipy.ndimage.zoom(img, 224/img.shape[0], order=1)\n",
    "image = np.zeros((3, 224, 224))\n",
    "for i in range(3):\n",
    "    image[i, :, :] += real_data\n",
    "    \n",
    "\n",
    "real_data_image = torch.from_numpy(image).float().cuda().unsqueeze(0)\n",
    "\n",
    "output = net(real_data_image)\n",
    "\n",
    "output \n",
    "\n",
    "\n",
    "#### Note: several things to change (angular resolution in the sims, train with normalized data)"
   ]
  },
  {
   "cell_type": "code",
   "execution_count": null,
   "metadata": {},
   "outputs": [],
   "source": []
  },
  {
   "cell_type": "code",
   "execution_count": null,
   "metadata": {},
   "outputs": [],
   "source": []
  }
 ],
 "metadata": {
  "kernelspec": {
   "display_name": "Python [conda env:LSST]",
   "language": "python",
   "name": "conda-env-LSST-py"
  },
  "language_info": {
   "codemirror_mode": {
    "name": "ipython",
    "version": 3
   },
   "file_extension": ".py",
   "mimetype": "text/x-python",
   "name": "python",
   "nbconvert_exporter": "python",
   "pygments_lexer": "ipython3",
   "version": "3.6.7"
  }
 },
 "nbformat": 4,
 "nbformat_minor": 2
}
