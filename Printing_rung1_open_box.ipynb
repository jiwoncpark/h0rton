{
 "cells": [
  {
   "cell_type": "code",
   "execution_count": 1,
   "metadata": {},
   "outputs": [],
   "source": [
    "import os, sys\n",
    "import pandas as pd\n",
    "import numpy as np\n",
    "import scipy.ndimage\n",
    "import matplotlib.pyplot as plt"
   ]
  },
  {
   "cell_type": "code",
   "execution_count": 2,
   "metadata": {},
   "outputs": [
    {
     "name": "stdout",
     "output_type": "stream",
     "text": [
      "We've just started your text editor of choice\n"
     ]
    }
   ],
   "source": [
    "os.system('xdg-open /media/joshua/HDD_fun2/time_delay_challenge/rung1_open_box/code1/f160w-seed101/lens_all_info.txt')\n",
    "print(\"We've just started your text editor of choice\")"
   ]
  },
  {
   "cell_type": "code",
   "execution_count": 7,
   "metadata": {},
   "outputs": [
    {
     "name": "stdout",
     "output_type": "stream",
     "text": [
      "Pixel size is 0.13'' and 0.08'' before and after drizzle\n",
      "Zeropoint of filter (AB system): \t25.9463\n",
      "Lens/Source redshift:\t[1.041, 2.251]\n",
      "External Convergence: Kext= 0 +/- 0.025\n",
      "Measured velocity dispersion:\n",
      "338.685km/s, error level: 16.42km/s\n",
      "Time delay of BCD - A :\n",
      "array([ 31.239,  17.935,  -2.159])days, error level: array([ 0.31,  0.25,  0.25])days\n"
     ]
    }
   ],
   "source": [
    "with open('/media/joshua/HDD_fun2/time_delay_challenge/rung1/code1/f160w-seed101/lens_info_for_Good_team.txt') as f:\n",
    "    for line in f:\n",
    "        print(line.strip())"
   ]
  },
  {
   "cell_type": "code",
   "execution_count": 4,
   "metadata": {},
   "outputs": [
    {
     "name": "stdout",
     "output_type": "stream",
     "text": [
      "Unit:\n",
      "Length in arcsecond scale, 'phi_G' is Angle in radian system start from x axis anticlockwise.\n",
      "Cosmological para\n",
      "FlatLambdaCDM, with Om=0.27 and H0: 74.151km/s/Mpc\n",
      "Pixel size is 0.13'' and 0.08'' before and after drizzle\n",
      "Time delay distance: TD_distance=(1+z_l)*D_l*D_s/D_ls:8406.369Mpc\n",
      "Time delay of BCD - A :\n",
      "array([ 33.338,  19.063,  -2.23 ])days\n",
      "Zeropoint of filter (AB system): \t25.9463\n",
      "Lens/Source redshift:\t[1.041, 2.251]\n",
      "Lens mass model:\n",
      "SPEMD:{'theta_E': 1.133, 'q': 0.709, 'center_x': 0, 'center_y': 0, 'phi_G': 0.539, 'gamma': 2.063}\n",
      "Shear: \t({'e1': 0.023, 'e2': 0.011}, {'b': 0.026, 'phi_G': 1.793})'\t Note that e1=-b*cos(2*phi_G); e2=-b*sin(2*phi_G)'\n",
      "Lens light:\n",
      "{'q': 0.95, 'amp_sersic': 0.093, 'n_sersic': 3.371, 'phi_G': 0.559, 'mag_sersic': 18.033, 'R_sersic': 0.89}\n",
      "Source light in source plane:\n",
      "Host galaxy name: NGC4639\tCenterPos: array([ 0.02,  0.02])\n",
      "Host mag: 21.291 mag\tHost R_eff: 0.333 arcsec\t\t\t 'The mag and R_eff are set by galfit value'\n",
      "AGN light:\n",
      "AGN position in source plane:\t0.02,0.02\n",
      "AGN amplitude in source plane:\t75.155\n",
      "AGN position in image plane:\tx: array([ 0.831, -0.86 ,  0.928, -0.541])\ty: array([-0.81 , -0.623,  0.62 ,  1.027])\n",
      "AGN amplitude in image plane:\tarray([ 463.481,  291.114,  393.48 ,  452.64 ])\n",
      "Host galaxy mag in the image plane: 18.674 mag, AGN total mag in the image plane: 17.936 mag\n",
      "Measured velocity dispersion (no error):\n",
      "328.372km/s\n",
      "kappa_ext:\n",
      "0.0677\n",
      "Time delay with external kappa i.e. TD_obs=TD*(1-k_ext):\n",
      "array([ 31.082,  17.773,  -2.079])days\n"
     ]
    }
   ],
   "source": [
    "with open('/media/joshua/HDD_fun2/time_delay_challenge/rung1_open_box/code1/f160w-seed101/lens_all_info.txt') as f:\n",
    "    for line in f:\n",
    "        print(line.strip())"
   ]
  },
  {
   "cell_type": "code",
   "execution_count": 6,
   "metadata": {},
   "outputs": [
    {
     "name": "stdout",
     "output_type": "stream",
     "text": [
      "Unit:\n",
      "Length in arcsecond scale, 'phi_G' is Angle in radian system start from x axis anticlockwise.\n",
      "Cosmological para\n",
      "FlatLambdaCDM, with Om=0.27 and H0: 74.151km/s/Mpc\n",
      "Pixel size is 0.13'' and 0.08'' before and after drizzle\n",
      "Time delay distance: TD_distance=(1+z_l)*D_l*D_s/D_ls:3597.278Mpc\n",
      "Time delay of BCD - A :\n",
      "array([ -3.357,  -9.136, -12.53 ])days\n",
      "Zeropoint of filter (AB system): \t25.9463\n",
      "Lens/Source redshift:\t[0.566, 1.682]\n",
      "Lens mass model:\n",
      "SPEMD:{'theta_E': 1.072, 'q': 0.813, 'center_x': 0, 'center_y': 0, 'phi_G': 1.925, 'gamma': 1.92}\n",
      "Shear: \t({'e1': 0.003, 'e2': 0.005}, {'b': 0.006, 'phi_G': 2.069})'\t Note that e1=-b*cos(2*phi_G); e2=-b*sin(2*phi_G)'\n",
      "Lens light:\n",
      "{'q': 0.905, 'amp_sersic': 0.196, 'n_sersic': 3.359, 'phi_G': 1.994, 'mag_sersic': 17.232, 'R_sersic': 0.889}\n",
      "Source light in source plane:\n",
      "Host galaxy name: NGC1084\tCenterPos: array([ 0.02, -0.01])\n",
      "Host mag: 20.29 mag\tHost R_eff: 0.393 arcsec\t\t\t 'The mag and R_eff are set by galfit value'\n",
      "AGN light:\n",
      "AGN position in source plane:\t0.02,-0.01\n",
      "AGN amplitude in source plane:\t155.961\n",
      "AGN position in image plane:\tx: array([-0.428,  0.275, -0.98 ,  1.096])\ty: array([ 0.902, -0.997, -0.51 ,  0.306])\n",
      "AGN amplitude in image plane:\tarray([  886.394,  1106.398,  1319.138,  1110.564])\n",
      "Host galaxy mag in the image plane: 17.575 mag, AGN total mag in the image plane: 16.832 mag\n",
      "Measured velocity dispersion (no error):\n",
      "243.407km/s\n",
      "kappa_ext:\n",
      "0.0082\n",
      "Time delay with external kappa i.e. TD_obs=TD*(1-k_ext):\n",
      "array([ -3.329,  -9.061, -12.427])days\n"
     ]
    }
   ],
   "source": [
    "with open('/media/joshua/HDD_fun2/time_delay_challenge/rung1_open_box/code2/f160w-seed110/lens_all_info.txt') as f:\n",
    "    for line in f:\n",
    "        print(line.strip())"
   ]
  },
  {
   "cell_type": "code",
   "execution_count": 9,
   "metadata": {},
   "outputs": [
    {
     "name": "stdout",
     "output_type": "stream",
     "text": [
      "Pixel size is 0.13'' and 0.08'' before and after drizzle\n",
      "Zeropoint of filter (AB system): \t25.9463\n",
      "Lens/Source redshift:\t[0.6, 1.5]\n",
      "External Convergence: Kext= 0 +/- 0.025\n",
      "Measured velocity dispersion:\n",
      "244.82km/s, error level: 11.56km/s\n",
      "Time delay of BCD - A :\n",
      "array([ 18.884,   1.714,  21.605])days, error level: array([ 0.25,  0.25,  0.25])days\n"
     ]
    }
   ],
   "source": [
    "with open('/media/joshua/HDD_fun2/time_delay_challenge/rung3/code1/f160w-seed135/lens_info_for_Good_team.txt') as f:\n",
    "    for line in f:\n",
    "        print(line.strip())"
   ]
  },
  {
   "cell_type": "code",
   "execution_count": null,
   "metadata": {},
   "outputs": [],
   "source": []
  }
 ],
 "metadata": {
  "kernelspec": {
   "display_name": "Python [conda env:miniconda3]",
   "language": "python",
   "name": "conda-env-miniconda3-py"
  },
  "language_info": {
   "codemirror_mode": {
    "name": "ipython",
    "version": 3
   },
   "file_extension": ".py",
   "mimetype": "text/x-python",
   "name": "python",
   "nbconvert_exporter": "python",
   "pygments_lexer": "ipython3",
   "version": "3.7.3"
  }
 },
 "nbformat": 4,
 "nbformat_minor": 2
}
